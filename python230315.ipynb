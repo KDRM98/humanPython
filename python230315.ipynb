{
  "cells": [
    {
      "cell_type": "markdown",
      "metadata": {
        "id": "S8lgSIyfHGBE"
      },
      "source": [
        "# 대분류"
      ]
    },
    {
      "cell_type": "markdown",
      "metadata": {
        "id": "JLvrNC28GeTJ"
      },
      "source": [
        "## 자기소개\n",
        "- 이름, 과거직장경력, 이 과정 이수 후 어디로 취업 희망\n",
        "-- 개발자 / 분석가"
      ]
    },
    {
      "cell_type": "code",
      "execution_count": null,
      "metadata": {
        "colab": {
          "base_uri": "https://localhost:8080/"
        },
        "id": "f1Yjr5_1HRxD",
        "outputId": "96de417e-a781-450b-ae8e-90bb82bfe7c7"
      },
      "outputs": [
        {
          "data": {
            "text/plain": [
              "2"
            ]
          },
          "execution_count": 1,
          "metadata": {},
          "output_type": "execute_result"
        }
      ],
      "source": [
        "1+1"
      ]
    },
    {
      "cell_type": "code",
      "execution_count": null,
      "metadata": {
        "colab": {
          "base_uri": "https://localhost:8080/"
        },
        "id": "4v1829k4F__z",
        "outputId": "495b664f-e2c1-4e64-d6bd-264fd01edf1f"
      },
      "outputs": [
        {
          "name": "stdout",
          "output_type": "stream",
          "text": [
            "Hello World\n"
          ]
        }
      ],
      "source": [
        "print(\"Hello World\")"
      ]
    },
    {
      "cell_type": "markdown",
      "metadata": {
        "id": "oKi98HxLGzEf"
      },
      "source": [
        "## 파이선 기초 문법\n",
        "- 주석처리\n",
        "- 여러 줄 주석처리 시, \n",
        "  + 함수, 클래스 작성할 때 요긴하게 쓰임 (예 : Docstring)\n"
      ]
    },
    {
      "cell_type": "code",
      "execution_count": null,
      "metadata": {
        "colab": {
          "base_uri": "https://localhost:8080/"
        },
        "id": "bGnw3zbve6qM",
        "outputId": "4135e1f9-83fb-4b5d-e6d7-253fce4df70c"
      },
      "outputs": [
        {
          "name": "stdout",
          "output_type": "stream",
          "text": [
            "Hello World\n"
          ]
        }
      ],
      "source": [
        "# 이 코드는 무슨무슨 코드임\n",
        "\n",
        "'''\n",
        "여러줄 주석 처리\n",
        "어ㅏㄹ어마ㅓ랑\n",
        "'''\n",
        "\n",
        "\"\"\"\n",
        "어ㅏ러마ㅏㅣㅓ\n",
        "\"\"\"\n",
        "\n",
        "print(\"Hello World\")"
      ]
    },
    {
      "cell_type": "markdown",
      "metadata": {
        "id": "Yo6h7k3thP-N"
      },
      "source": [
        "## 변수의 종류 (Scala 자료형)\n",
        "- 4가지 존재 : int, float, bool, None\n",
        "- 스칼라의 의미 : 더 이상 나누어지지 않는 것"
      ]
    },
    {
      "cell_type": "markdown",
      "metadata": {
        "id": "cJ7aVCLshkl6"
      },
      "source": [
        "### int형 예제\n"
      ]
    },
    {
      "cell_type": "code",
      "execution_count": null,
      "metadata": {
        "colab": {
          "base_uri": "https://localhost:8080/"
        },
        "id": "uzDKhXNohPfq",
        "outputId": "2c0cfa81-b7bb-4502-eba8-3562901277a9"
      },
      "outputs": [
        {
          "name": "stdout",
          "output_type": "stream",
          "text": [
            "1\n",
            "<class 'int'>\n"
          ]
        }
      ],
      "source": [
        "temp_int = 1\n",
        "print(temp_int)\n",
        "print(type(temp_int))"
      ]
    },
    {
      "cell_type": "markdown",
      "metadata": {
        "id": "WbXzh1Upi6W4"
      },
      "source": [
        "- 문자열"
      ]
    },
    {
      "cell_type": "code",
      "execution_count": null,
      "metadata": {
        "colab": {
          "base_uri": "https://localhost:8080/"
        },
        "id": "Ct29FVXJi789",
        "outputId": "cfc9cc24-9b99-46c5-d5bd-00b3011586fe"
      },
      "outputs": [
        {
          "name": "stdout",
          "output_type": "stream",
          "text": [
            "1\n",
            "<class 'str'>\n"
          ]
        }
      ],
      "source": [
        "temp_int = '1'\n",
        "print(temp_int)\n",
        "print(type(temp_int))"
      ]
    },
    {
      "cell_type": "markdown",
      "metadata": {
        "id": "EHFDF6AjjeZZ"
      },
      "source": [
        "### float형 예제\n",
        "- 실수형"
      ]
    },
    {
      "cell_type": "code",
      "execution_count": null,
      "metadata": {
        "id": "mejgcS5AkomP"
      },
      "outputs": [],
      "source": []
    },
    {
      "cell_type": "code",
      "execution_count": null,
      "metadata": {
        "colab": {
          "base_uri": "https://localhost:8080/"
        },
        "id": "-1t6IVKUjj8G",
        "outputId": "1501c76e-df60-40be-9bfb-1a454a042801"
      },
      "outputs": [
        {
          "name": "stdout",
          "output_type": "stream",
          "text": [
            "0.2\n",
            "<class 'float'>\n"
          ]
        }
      ],
      "source": [
        "num_float = 0.2 \n",
        "print(num_float)\n",
        "print(type(num_float))"
      ]
    },
    {
      "cell_type": "markdown",
      "metadata": {
        "id": "etcjdWGBkF7G"
      },
      "source": [
        "### Bool 형\n",
        "- 참 거짓"
      ]
    },
    {
      "cell_type": "code",
      "execution_count": null,
      "metadata": {
        "colab": {
          "base_uri": "https://localhost:8080/"
        },
        "id": "inwzazSkkJxn",
        "outputId": "42eb1476-67cf-4b4e-fa07-ce2899bacf70"
      },
      "outputs": [
        {
          "name": "stdout",
          "output_type": "stream",
          "text": [
            "<class 'bool'>\n"
          ]
        }
      ],
      "source": [
        "temp_bool = True\n",
        "temp_bool = False\n",
        "\n",
        "print(type(temp_bool))"
      ]
    },
    {
      "cell_type": "markdown",
      "metadata": {
        "id": "oI9ji9vMk6GD"
      },
      "source": [
        "### None 자료형\n",
        "- Null을 나타내는 자료형\n",
        "  + 데이터분석에서 가장 처리하기 까다로운 자료형"
      ]
    },
    {
      "cell_type": "code",
      "execution_count": null,
      "metadata": {
        "colab": {
          "base_uri": "https://localhost:8080/"
        },
        "id": "1lS1oa0BlUJE",
        "outputId": "c8af0276-b609-41dd-e943-9ab3294aacfb"
      },
      "outputs": [
        {
          "name": "stdout",
          "output_type": "stream",
          "text": [
            "<class 'NoneType'>\n"
          ]
        }
      ],
      "source": [
        "temp_none = None \n",
        "print(type(temp_none))"
      ]
    },
    {
      "cell_type": "markdown",
      "metadata": {
        "id": "qXHDFAuGnHdm"
      },
      "source": [
        "## 사칙연산\n",
        "- 정수형 사칙연산"
      ]
    },
    {
      "cell_type": "code",
      "execution_count": null,
      "metadata": {
        "colab": {
          "base_uri": "https://localhost:8080/"
        },
        "id": "TvtvlDTGnJ_5",
        "outputId": "2a34c679-d817-4cc4-b8ab-582aa1fcd829"
      },
      "outputs": [
        {
          "name": "stdout",
          "output_type": "stream",
          "text": [
            "8\n",
            "4\n",
            "12\n",
            "3.0\n",
            "3\n",
            "36\n",
            "0\n"
          ]
        }
      ],
      "source": [
        "a = 6\n",
        "b = 2\n",
        "\n",
        "print(a + b) # 덧셈\n",
        "print(a - b) # 뺄셈\n",
        "print(a * b) # 곱셈\n",
        "print(a / b) # 나누기\n",
        "print(a // b) # 몫\n",
        "print(a ** b) # 제곱\n",
        "print(a % b) # 나머지"
      ]
    },
    {
      "cell_type": "markdown",
      "metadata": {
        "id": "6xMtvJFornv6"
      },
      "source": [
        "### 실수형 사칙연산"
      ]
    },
    {
      "cell_type": "code",
      "execution_count": null,
      "metadata": {
        "colab": {
          "base_uri": "https://localhost:8080/"
        },
        "id": "1fTnEg85rpwv",
        "outputId": "410c47f4-fdcd-46ed-be71-2519b0c4e2f2"
      },
      "outputs": [
        {
          "name": "stdout",
          "output_type": "stream",
          "text": [
            "8.0\n",
            "4.0\n",
            "12.0\n",
            "3.0\n",
            "3.0\n",
            "36.0\n",
            "0.0\n"
          ]
        }
      ],
      "source": [
        "a = 6.0\n",
        "b = 2.0\n",
        "\n",
        "print(a + b) # 덧셈\n",
        "print(a - b) # 뺄셈\n",
        "print(a * b) # 곱셈\n",
        "print(a / b) # 나누기\n",
        "print(a // b) # 몫\n",
        "print(a ** b) # 제곱\n",
        "print(a % b) # 나머지"
      ]
    },
    {
      "cell_type": "markdown",
      "metadata": {
        "id": "qE8fv5KPsG_t"
      },
      "source": [
        "### 논리형 연산자\n",
        "- AND 조건, OR 조건이 있음"
      ]
    },
    {
      "cell_type": "code",
      "execution_count": null,
      "metadata": {
        "colab": {
          "base_uri": "https://localhost:8080/"
        },
        "id": "O7onvtv2rdXQ",
        "outputId": "c635d71c-ce09-469a-c9b2-539d098ec41c"
      },
      "outputs": [
        {
          "name": "stdout",
          "output_type": "stream",
          "text": [
            "True\n",
            "False\n",
            "False\n",
            "False\n"
          ]
        }
      ],
      "source": [
        "print(True and True)\n",
        "print(True and False)\n",
        "print(False and True)\n",
        "print(False and False)"
      ]
    },
    {
      "cell_type": "code",
      "execution_count": null,
      "metadata": {
        "colab": {
          "base_uri": "https://localhost:8080/"
        },
        "id": "pdpZYWSGtSTr",
        "outputId": "03da4182-6a44-4b20-b89d-b786add0f5a3"
      },
      "outputs": [
        {
          "name": "stdout",
          "output_type": "stream",
          "text": [
            "True\n",
            "True\n",
            "True\n",
            "False\n"
          ]
        }
      ],
      "source": [
        "print(True or True)\n",
        "print(True or False)\n",
        "print(False or True)\n",
        "print(False or False)"
      ]
    },
    {
      "cell_type": "markdown",
      "metadata": {
        "id": "RlBX88TDtp5q"
      },
      "source": [
        "### 비교 연산자\n",
        "- 비교 연산자는 부등호를 의미함\n",
        "- 왼쪽이 기준 값"
      ]
    },
    {
      "cell_type": "code",
      "execution_count": null,
      "metadata": {
        "colab": {
          "base_uri": "https://localhost:8080/"
        },
        "id": "q8QWqjfntvwI",
        "outputId": "c066568e-fb05-4cae-ad88-4aa7e976559d"
      },
      "outputs": [
        {
          "name": "stdout",
          "output_type": "stream",
          "text": [
            "True\n",
            "False\n",
            "False\n",
            "True\n"
          ]
        }
      ],
      "source": [
        "print(4 > 3)\n",
        "print(3 > 4)\n",
        "print(3 >= 4)\n",
        "print(3 <= 4)"
      ]
    },
    {
      "cell_type": "markdown",
      "metadata": {
        "id": "Nd8Tc-4euIW-"
      },
      "source": [
        "## input()\n",
        "- print() : 출력\n",
        "- input() : 입력"
      ]
    },
    {
      "cell_type": "code",
      "execution_count": null,
      "metadata": {
        "colab": {
          "base_uri": "https://localhost:8080/"
        },
        "id": "ZshMs9KtzVPD",
        "outputId": "986d9d0b-9eae-4e93-9e24-a1dc7cf0f6e9"
      },
      "outputs": [
        {
          "name": "stdout",
          "output_type": "stream",
          "text": [
            "값을 입력해주세요!! 6\n",
            "6\n",
            "<class 'int'>\n"
          ]
        }
      ],
      "source": [
        "var = input(\"값을 입력해주세요!! \")\n",
        "int_var = int(var)\n",
        "print(int_var)\n",
        "print(type(int_var))"
      ]
    },
    {
      "cell_type": "code",
      "execution_count": null,
      "metadata": {
        "colab": {
          "base_uri": "https://localhost:8080/"
        },
        "id": "vNPDywUKuQ2-",
        "outputId": "8f31e0ee-55bb-46f2-ce5d-eb68e21a320f"
      },
      "outputs": [
        {
          "name": "stdout",
          "output_type": "stream",
          "text": [
            "값을 입력해주세요!! 5\n",
            "5\n",
            "<class 'int'>\n"
          ]
        }
      ],
      "source": [
        "var = input(\"값을 입력해주세요!! \")\n",
        "print(var)\n",
        "\n",
        "var = int(var)\n",
        "print(type(var))"
      ]
    },
    {
      "cell_type": "code",
      "execution_count": null,
      "metadata": {
        "colab": {
          "base_uri": "https://localhost:8080/"
        },
        "id": "De7E-U5wvL9E",
        "outputId": "4bf8cdbd-b0d0-4d91-d7c4-a27dcb8d939a"
      },
      "outputs": [
        {
          "name": "stdout",
          "output_type": "stream",
          "text": [
            "값을 입력해주세요!! 10\n",
            "값을 입력해주세요!! 20\n",
            "30\n"
          ]
        }
      ],
      "source": [
        "num1 = int(input(\"값을 입력해주세요!! \"))\n",
        "num2 = int(input(\"값을 입력해주세요!! \"))\n",
        "\n",
        "result = num1 + num2 \n",
        "print(result)"
      ]
    },
    {
      "cell_type": "markdown",
      "metadata": {
        "id": "f7oN1kC-0Um2"
      },
      "source": [
        "## String\n",
        "- 매우 중요함!!!!!!!!!!! \n",
        "- "
      ]
    },
    {
      "cell_type": "markdown",
      "metadata": {
        "id": "UjJbQcAK7B_C"
      },
      "source": [
        "### String 연산자"
      ]
    },
    {
      "cell_type": "code",
      "execution_count": null,
      "metadata": {
        "colab": {
          "base_uri": "https://localhost:8080/"
        },
        "id": "Ibzq96B86B5_",
        "outputId": "97549919-bb1e-4200-9919-0f34db4bfc75"
      },
      "outputs": [
        {
          "name": "stdout",
          "output_type": "stream",
          "text": [
            "Hello World\n"
          ]
        }
      ],
      "source": [
        "str1 = \"Hello \"\n",
        "str2 = \"World\"\n",
        "\n",
        "print(str1 + str2)"
      ]
    },
    {
      "cell_type": "code",
      "execution_count": null,
      "metadata": {
        "colab": {
          "base_uri": "https://localhost:8080/"
        },
        "id": "Z-c1Rb9y6vs0",
        "outputId": "b8e7d545-6521-46cf-9b1c-496a38ae1578"
      },
      "outputs": [
        {
          "name": "stdout",
          "output_type": "stream",
          "text": [
            "Hello World\n"
          ]
        }
      ],
      "source": [
        "str1 = \"Hello \"\n",
        "str2 = \"World\"\n",
        "\n",
        "result = str1 + str2\n",
        "print(result)"
      ]
    },
    {
      "cell_type": "code",
      "execution_count": null,
      "metadata": {
        "colab": {
          "base_uri": "https://localhost:8080/"
        },
        "id": "MB3udw0E6YeP",
        "outputId": "ec772d81-c3a0-4691-c3ad-dad2ed6ade16"
      },
      "outputs": [
        {
          "name": "stdout",
          "output_type": "stream",
          "text": [
            "1055\n"
          ]
        }
      ],
      "source": [
        "str1 = \"55\"\n",
        "str2 = \"1000\"\n",
        "print(int(str1) + int(str2))"
      ]
    },
    {
      "cell_type": "markdown",
      "metadata": {
        "id": "6teHtBY16-L9"
      },
      "source": [
        "- 곱셈 연산자 사용"
      ]
    },
    {
      "cell_type": "code",
      "execution_count": null,
      "metadata": {
        "colab": {
          "base_uri": "https://localhost:8080/"
        },
        "id": "DbeVooQk69_e",
        "outputId": "896c3519-f5d4-403d-c765-91da7021e26e"
      },
      "outputs": [
        {
          "name": "stdout",
          "output_type": "stream",
          "text": [
            "Hello World Hello World Hello World \n"
          ]
        }
      ],
      "source": [
        "greeting = \"Hello World \"\n",
        "print(greeting * 3)"
      ]
    },
    {
      "cell_type": "markdown",
      "metadata": {
        "id": "XAAiGMDE7aWS"
      },
      "source": [
        "### Indexing \n",
        "- 중요!! \n",
        "- 0번째부터 시작"
      ]
    },
    {
      "cell_type": "code",
      "execution_count": null,
      "metadata": {
        "colab": {
          "base_uri": "https://localhost:8080/"
        },
        "id": "-JaIpEtP7e6Y",
        "outputId": "df350576-22a6-4123-cd78-b33a9b2f6930"
      },
      "outputs": [
        {
          "name": "stdout",
          "output_type": "stream",
          "text": [
            "l\n"
          ]
        }
      ],
      "source": [
        "greeting = \"Hello World!\"\n",
        "print(greeting[-3])"
      ]
    },
    {
      "cell_type": "markdown",
      "metadata": {
        "id": "lkv8TZ8o8dz2"
      },
      "source": [
        "### 슬라이싱\n",
        "- 자름"
      ]
    },
    {
      "cell_type": "code",
      "execution_count": null,
      "metadata": {
        "colab": {
          "base_uri": "https://localhost:8080/"
        },
        "id": "lmmD__9i8skf",
        "outputId": "1aa65cbd-4837-418f-b47a-3f4ee9b8209b"
      },
      "outputs": [
        {
          "name": "stdout",
          "output_type": "stream",
          "text": [
            "Hello\n",
            "Hello World!\n",
            "World!\n",
            "lo Wor\n",
            " World\n",
            "HloWr\n"
          ]
        }
      ],
      "source": [
        "greeting = \"Hello World!\"\n",
        "print(greeting[0:5])\n",
        "print(greeting[:])\n",
        "print(greeting[6:])\n",
        "print(greeting[3:9])\n",
        "print(greeting[5:-1])\n",
        "print(greeting[0:9:2])"
      ]
    },
    {
      "cell_type": "code",
      "execution_count": null,
      "metadata": {
        "colab": {
          "base_uri": "https://localhost:8080/",
          "height": 190
        },
        "id": "B6c90uM--vZs",
        "outputId": "e26da404-7395-403b-dd8e-5c0469718715"
      },
      "outputs": [
        {
          "ename": "IndexError",
          "evalue": "ignored",
          "output_type": "error",
          "traceback": [
            "\u001b[0;31m---------------------------------------------------------------------------\u001b[0m",
            "\u001b[0;31mIndexError\u001b[0m                                Traceback (most recent call last)",
            "\u001b[0;32m<ipython-input-34-e143dfc4298d>\u001b[0m in \u001b[0;36m<module>\u001b[0;34m\u001b[0m\n\u001b[1;32m      1\u001b[0m \u001b[0mgreeting\u001b[0m \u001b[0;34m=\u001b[0m \u001b[0;34m\"Hello World!!!!!\"\u001b[0m\u001b[0;34m\u001b[0m\u001b[0;34m\u001b[0m\u001b[0m\n\u001b[0;32m----> 2\u001b[0;31m \u001b[0mgreeting\u001b[0m\u001b[0;34m[\u001b[0m\u001b[0;36m20\u001b[0m\u001b[0;34m]\u001b[0m\u001b[0;34m\u001b[0m\u001b[0;34m\u001b[0m\u001b[0m\n\u001b[0m",
            "\u001b[0;31mIndexError\u001b[0m: string index out of range"
          ]
        }
      ],
      "source": [
        "greeting = \"Hello World!!!!!\"\n",
        "greeting[20]"
      ]
    },
    {
      "cell_type": "markdown",
      "metadata": {
        "id": "moWI0wgN_x1X"
      },
      "source": [
        "### 문자열의 함수들\n",
        "- 공식문서! \n",
        "- 문자를 모두다 대문자로 바꾸겠습니다. "
      ]
    },
    {
      "cell_type": "code",
      "execution_count": 9,
      "metadata": {
        "colab": {
          "base_uri": "https://localhost:8080/"
        },
        "id": "-CPIzG_dBAr8",
        "outputId": "ed0bc85b-7bca-48c3-8dda-d5114e86e730"
      },
      "outputs": [
        {
          "name": "stdout",
          "output_type": "stream",
          "text": [
            "JAVA\n",
            "java\n"
          ]
        }
      ],
      "source": [
        "tmp_string = \"Java\"\n",
        "\n",
        "# 변수명 저장! \n",
        "# 변수명 저장함과 동시에, 클래스로 바뀜\n",
        "print(tmp_string.upper())\n",
        "print(tmp_string.lower())"
      ]
    },
    {
      "cell_type": "markdown",
      "metadata": {
        "id": "CzfFFE2oEcQk"
      },
      "source": [
        "- 참조 : https://docs.python.org/3/library/stdtypes.html#str.split"
      ]
    },
    {
      "cell_type": "code",
      "execution_count": 11,
      "metadata": {
        "colab": {
          "base_uri": "https://localhost:8080/"
        },
        "id": "TC6D8Dt3D6g6",
        "outputId": "6b429f31-66f9-464a-81da-0345441db851"
      },
      "outputs": [
        {
          "name": "stdout",
          "output_type": "stream",
          "text": [
            "['BMW', 'BENZ', 'TESLA', 'KIA']\n"
          ]
        }
      ],
      "source": [
        "tmp_string = \"BMW-BENZ-TESLA-KIA\"\n",
        "print(tmp_string.split(sep = '-'))"
      ]
    },
    {
      "cell_type": "markdown",
      "metadata": {
        "id": "W7A7yhPiFr92"
      },
      "source": [
        "## 리스트\n",
        "- 자바의 배열 "
      ]
    },
    {
      "cell_type": "code",
      "execution_count": 12,
      "metadata": {
        "colab": {
          "base_uri": "https://localhost:8080/"
        },
        "id": "SJL0KihvF6Pa",
        "outputId": "f5ceaf66-2179-4154-bb19-84b14cc0160e"
      },
      "outputs": [
        {
          "name": "stdout",
          "output_type": "stream",
          "text": [
            "[]\n",
            "[]\n",
            "[1]\n",
            "['Apple']\n",
            "[1, 2, ['apple']]\n"
          ]
        }
      ],
      "source": [
        "a = []\n",
        "a_func = list() # list() 함수로도 빈 리스트 생성\n",
        "b = [1]\n",
        "c = ['Apple']\n",
        "d = [1, 2, ['apple']]\n",
        "\n",
        "print(a)\n",
        "print(a_func)\n",
        "print(b)\n",
        "print(c)\n",
        "print(d)"
      ]
    },
    {
      "cell_type": "code",
      "execution_count": 14,
      "metadata": {
        "colab": {
          "base_uri": "https://localhost:8080/"
        },
        "id": "DnKn5zXeHNNV",
        "outputId": "6c8c3481-8103-4869-9976-7bdf9b0738f7"
      },
      "outputs": [
        {
          "name": "stdout",
          "output_type": "stream",
          "text": [
            "[5, 3, 1, 4, 6, 7]\n"
          ]
        }
      ],
      "source": [
        "a = [5, 3, 1, 4, 6, 7]\n",
        "print(a)"
      ]
    },
    {
      "cell_type": "code",
      "execution_count": 19,
      "metadata": {
        "colab": {
          "base_uri": "https://localhost:8080/"
        },
        "id": "COFvAe6JHWNJ",
        "outputId": "cdc8e5c7-b465-4992-9cd4-8984f756fcf5"
      },
      "outputs": [
        {
          "data": {
            "text/plain": [
              "[5, 3, 1, 4]"
            ]
          },
          "execution_count": 19,
          "metadata": {},
          "output_type": "execute_result"
        }
      ],
      "source": [
        "a[0:4]"
      ]
    },
    {
      "cell_type": "markdown",
      "metadata": {
        "id": "qpUUL4GQHl8P"
      },
      "source": [
        "### 중첩리스트(Nested List)\n",
        "- 리스트내의 또 다른 리스트 "
      ]
    },
    {
      "cell_type": "code",
      "execution_count": 20,
      "metadata": {
        "colab": {
          "base_uri": "https://localhost:8080/"
        },
        "id": "MujukoQlHt5J",
        "outputId": "e10dcfff-0acf-479d-fad5-6d3bae8bb5c9"
      },
      "outputs": [
        {
          "name": "stdout",
          "output_type": "stream",
          "text": [
            "[['apple', 'banana', 'cherry'], 1]\n"
          ]
        }
      ],
      "source": [
        "a = [['apple', 'banana', 'cherry'], 1]\n",
        "print(a)"
      ]
    },
    {
      "cell_type": "code",
      "execution_count": 26,
      "metadata": {
        "colab": {
          "base_uri": "https://localhost:8080/"
        },
        "id": "H_C-jOB4H2Zt",
        "outputId": "d790756e-c9ed-4989-f78e-41e94eb46159"
      },
      "outputs": [
        {
          "name": "stdout",
          "output_type": "stream",
          "text": [
            "e\n"
          ]
        }
      ],
      "source": [
        "# cherry 글자에서 알파벳 e만 가져오세요\n",
        "temp = a[0]\n",
        "temp2 = temp[2]\n",
        "temp2[2]\n",
        "\n",
        "print(a[0][2][2])"
      ]
    },
    {
      "cell_type": "markdown",
      "metadata": {
        "id": "S0BIyR7QnNU8"
      },
      "source": [
        "### 리스트 연결 연산자\n",
        "- 덧셈, 곱셈"
      ]
    },
    {
      "cell_type": "code",
      "execution_count": 1,
      "metadata": {
        "colab": {
          "base_uri": "https://localhost:8080/"
        },
        "id": "Iuu8oCHInRgm",
        "outputId": "e92da502-8211-434a-ee38-bda332b80c80"
      },
      "outputs": [
        {
          "name": "stdout",
          "output_type": "stream",
          "text": [
            "['alice', 'bob', 'cat', 'apple', 'banana', 'cherry']\n"
          ]
        }
      ],
      "source": [
        "a = ['alice', 'bob', 'cat']\n",
        "b = ['apple', 'banana', 'cherry']\n",
        "\n",
        "c = a + b \n",
        "print(c )"
      ]
    },
    {
      "cell_type": "code",
      "execution_count": 3,
      "metadata": {
        "colab": {
          "base_uri": "https://localhost:8080/"
        },
        "id": "sGQr9iTioQaN",
        "outputId": "9bd12510-84a1-4fef-8f28-fc831e07896b"
      },
      "outputs": [
        {
          "name": "stdout",
          "output_type": "stream",
          "text": [
            "['a', 'b', 'c', 'a', 'b', 'c', 'a', 'b', 'c', 'a', 'b', 'c', 'a', 'b', 'c']\n"
          ]
        }
      ],
      "source": [
        "a = ['a', 'b', 'c']\n",
        "b = a * 5\n",
        "print(b)"
      ]
    },
    {
      "cell_type": "code",
      "execution_count": 4,
      "metadata": {
        "colab": {
          "base_uri": "https://localhost:8080/"
        },
        "id": "EBbWdymYoWde",
        "outputId": "7f8d5010-574d-4ef7-f244-965ac40e3cf7"
      },
      "outputs": [
        {
          "name": "stdout",
          "output_type": "stream",
          "text": [
            "[]\n"
          ]
        }
      ],
      "source": [
        "c = a * 0\n",
        "print(c)"
      ]
    },
    {
      "cell_type": "markdown",
      "metadata": {
        "id": "seNGl66cpHyC"
      },
      "source": [
        "### 리스트 값 수정\n",
        "- 참조 : https://docs.python.org/3/tutorial/datastructures.html"
      ]
    },
    {
      "cell_type": "code",
      "execution_count": 8,
      "metadata": {
        "colab": {
          "base_uri": "https://localhost:8080/"
        },
        "id": "jwXAdpjmpHIn",
        "outputId": "1ea44da0-9d30-473c-8ccf-bbcf9d5a509f"
      },
      "outputs": [
        {
          "name": "stdout",
          "output_type": "stream",
          "text": [
            "[1, None, 1]\n"
          ]
        }
      ],
      "source": [
        "a = [1, 1, 1]\n",
        "a[1] = None\n",
        "\n",
        "print(a)"
      ]
    },
    {
      "cell_type": "markdown",
      "metadata": {
        "id": "ACsH7UvppqCY"
      },
      "source": [
        "### 리스트 값 추가하기\n",
        "- append 메서드 사용 (기억)\n",
        "- 반복문 사용 시, 매우 자주 활용 됨"
      ]
    },
    {
      "cell_type": "code",
      "execution_count": 10,
      "metadata": {
        "colab": {
          "base_uri": "https://localhost:8080/"
        },
        "id": "HpyQBC0bptY2",
        "outputId": "016da7cf-b11e-4078-c1bc-aed58ec179db"
      },
      "outputs": [
        {
          "name": "stdout",
          "output_type": "stream",
          "text": [
            "[100, 200, 300, 400, 500, 600]\n"
          ]
        }
      ],
      "source": [
        "a = [100, 200, 300]\n",
        "\n",
        "a.append(400)\n",
        "a.append(500)\n",
        "a.append(600)\n",
        "\n",
        "print(a)"
      ]
    },
    {
      "cell_type": "code",
      "execution_count": 11,
      "metadata": {
        "colab": {
          "base_uri": "https://localhost:8080/"
        },
        "id": "IhMnXV_sqnW6",
        "outputId": "aa1bd895-0923-479b-f97a-9150c175ac0e"
      },
      "outputs": [
        {
          "name": "stdout",
          "output_type": "stream",
          "text": [
            "[100, 200, 300, [400, 500, 600]]\n"
          ]
        }
      ],
      "source": [
        "a = [100, 200, 300]\n",
        "b = [400, 500, 600]\n",
        "\n",
        "a.append(b)\n",
        "\n",
        "print(a)"
      ]
    },
    {
      "cell_type": "markdown",
      "metadata": {
        "id": "NbDpES0pqzn_"
      },
      "source": [
        "### extend() 함수 사용\n",
        "- 여러 개의 요소를 추가하고 싶다면 사용"
      ]
    },
    {
      "cell_type": "code",
      "execution_count": 12,
      "metadata": {
        "colab": {
          "base_uri": "https://localhost:8080/"
        },
        "id": "kqsYl-iLq4ol",
        "outputId": "45ac4f14-c194-4452-8189-d91878562d58"
      },
      "outputs": [
        {
          "name": "stdout",
          "output_type": "stream",
          "text": [
            "[100, 200, 300, 400, 500, 600]\n"
          ]
        }
      ],
      "source": [
        "a = [100, 200, 300]\n",
        "b = [400, 500, 600]\n",
        "\n",
        "a.extend(b)\n",
        "\n",
        "print(a)"
      ]
    },
    {
      "cell_type": "markdown",
      "metadata": {
        "id": "qKrz1EKyrOB3"
      },
      "source": [
        "### insert\n",
        "- 특정한 위치에 값을 추가"
      ]
    },
    {
      "cell_type": "code",
      "execution_count": 18,
      "metadata": {
        "colab": {
          "base_uri": "https://localhost:8080/"
        },
        "id": "tnN2Adh-qXat",
        "outputId": "060a4e36-15c5-4e17-a462-74bc81e27c95"
      },
      "outputs": [
        {
          "name": "stdout",
          "output_type": "stream",
          "text": [
            "[1, 1, 1, 1, 1, 1, 100, 1]\n"
          ]
        }
      ],
      "source": [
        "a = [1, 1, 1, 1, 1, 1, 1]\n",
        "a.insert(6, 100)\n",
        "\n",
        "print(a)"
      ]
    },
    {
      "cell_type": "markdown",
      "metadata": {
        "id": "6e1i7luHsd5u"
      },
      "source": [
        "### 리스트의 값을 삭제\n",
        "- remove() 함수"
      ]
    },
    {
      "cell_type": "code",
      "execution_count": 21,
      "metadata": {
        "colab": {
          "base_uri": "https://localhost:8080/"
        },
        "id": "VMX465MEshPu",
        "outputId": "738a687c-82fb-448a-fd30-224277e5192a"
      },
      "outputs": [
        {
          "data": {
            "text/plain": [
              "[4, 3, 2, 1]"
            ]
          },
          "execution_count": 21,
          "metadata": {},
          "output_type": "execute_result"
        }
      ],
      "source": [
        "a = [5, 4, 3, 2, 1]\n",
        "a.remove(5) # 숫자는 인덱스 번호 아님, value 값\n",
        "a"
      ]
    },
    {
      "cell_type": "markdown",
      "metadata": {
        "id": "UWJeUmQPs5fN"
      },
      "source": [
        "- pop 함수 "
      ]
    },
    {
      "cell_type": "code",
      "execution_count": 22,
      "metadata": {
        "colab": {
          "base_uri": "https://localhost:8080/"
        },
        "id": "Yp_0v8Cls98-",
        "outputId": "81cb109e-f548-4775-f660-fc87d865cb27"
      },
      "outputs": [
        {
          "name": "stdout",
          "output_type": "stream",
          "text": [
            "1\n",
            "[5, 4, 3, 2]\n"
          ]
        }
      ],
      "source": [
        "a = [5, 4, 3, 2, 1]\n",
        "a2 = a.pop(4)\n",
        "\n",
        "print(a2)\n",
        "print(a)"
      ]
    },
    {
      "cell_type": "markdown",
      "metadata": {
        "id": "Rvpdl19SvOrB"
      },
      "source": [
        "## 그 외 유용한 메서드\n",
        "- clear 함수"
      ]
    },
    {
      "cell_type": "code",
      "execution_count": 23,
      "metadata": {
        "colab": {
          "base_uri": "https://localhost:8080/"
        },
        "id": "IfN6vq_kvc_g",
        "outputId": "d43f7be6-9c7a-4336-c454-5bae37e414e1"
      },
      "outputs": [
        {
          "name": "stdout",
          "output_type": "stream",
          "text": [
            "[0, 1, 2, 3]\n",
            "[]\n"
          ]
        }
      ],
      "source": [
        "a = [0, 1, 2, 3]\n",
        "print(a)\n",
        "\n",
        "a.clear()\n",
        "print(a)"
      ]
    },
    {
      "cell_type": "code",
      "execution_count": 25,
      "metadata": {
        "colab": {
          "base_uri": "https://localhost:8080/"
        },
        "id": "3DZhaFBdvqOk",
        "outputId": "8e7385cb-b7b7-49e4-9505-7609b7563f03"
      },
      "outputs": [
        {
          "name": "stdout",
          "output_type": "stream",
          "text": [
            "[1, 2, 3, 4, 5]\n"
          ]
        }
      ],
      "source": [
        "a = [1, 4, 5, 2, 3]\n",
        "a.sort()\n",
        "print(a)"
      ]
    },
    {
      "cell_type": "code",
      "execution_count": 26,
      "metadata": {
        "colab": {
          "base_uri": "https://localhost:8080/"
        },
        "id": "oGSPm8jPv19L",
        "outputId": "e83a6711-b2d8-404a-bd42-d537decd8d38"
      },
      "outputs": [
        {
          "name": "stdout",
          "output_type": "stream",
          "text": [
            "[5, 4, 3, 2, 1]\n"
          ]
        }
      ],
      "source": [
        "# 내림차순으로 정렬\n",
        "a = [1, 4, 5, 2, 3]\n",
        "a.sort(reverse=True)\n",
        "print(a)"
      ]
    },
    {
      "cell_type": "markdown",
      "metadata": {
        "id": "pNQpkisU04_Z"
      },
      "source": [
        "## 튜플"
      ]
    },
    {
      "cell_type": "code",
      "execution_count": 28,
      "metadata": {
        "colab": {
          "base_uri": "https://localhost:8080/"
        },
        "id": "fYBzZzSg1I52",
        "outputId": "85772460-483b-44d4-ffac-92a3694b04dc"
      },
      "outputs": [
        {
          "name": "stdout",
          "output_type": "stream",
          "text": [
            "0\n",
            "(0,)\n",
            "(0, 1, 2)\n",
            "<class 'int'>\n",
            "<class 'tuple'>\n",
            "<class 'tuple'>\n"
          ]
        }
      ],
      "source": [
        "tuple01 = (0)\n",
        "tuple02 = (0, )\n",
        "tuple03 = 0,1,2\n",
        "\n",
        "print(tuple01)\n",
        "print(tuple02)\n",
        "print(tuple03)\n",
        "\n",
        "print(type(tuple01))\n",
        "print(type(tuple02))\n",
        "print(type(tuple03))"
      ]
    },
    {
      "cell_type": "code",
      "execution_count": 30,
      "metadata": {
        "colab": {
          "base_uri": "https://localhost:8080/"
        },
        "id": "xpRAj5mX1zP1",
        "outputId": "fd524c1b-c7ad-4ea0-9c36-6e845c766a89"
      },
      "outputs": [
        {
          "name": "stdout",
          "output_type": "stream",
          "text": [
            "(3, 2, 'A')\n",
            "3\n",
            "2\n",
            "A\n"
          ]
        }
      ],
      "source": [
        "# packing\n",
        "my_tuple = 3, 2, \"A\"\n",
        "print(my_tuple)\n",
        "\n",
        "# Unpacking\n",
        "a, b, c = my_tuple \n",
        "\n",
        "print(a)\n",
        "print(b)\n",
        "print(c)"
      ]
    },
    {
      "cell_type": "markdown",
      "metadata": {
        "id": "nyKNa65e2To-"
      },
      "source": [
        "### 수정 삭제 안됨"
      ]
    },
    {
      "cell_type": "code",
      "execution_count": 33,
      "metadata": {
        "colab": {
          "base_uri": "https://localhost:8080/"
        },
        "id": "zixNNAk22fPQ",
        "outputId": "4f0a43f3-4df3-4a8b-903d-01096a6f6eaf"
      },
      "outputs": [
        {
          "data": {
            "text/plain": [
              "[0, 1, 2, 3, 4, 5]"
            ]
          },
          "execution_count": 33,
          "metadata": {},
          "output_type": "execute_result"
        }
      ],
      "source": [
        "a = [0, 1, 2, 3, 4, 5, \"a\"]\n",
        "del a[6]\n",
        "a"
      ]
    },
    {
      "cell_type": "code",
      "execution_count": 35,
      "metadata": {
        "colab": {
          "base_uri": "https://localhost:8080/",
          "height": 229
        },
        "id": "g27U5j3Y2Wfn",
        "outputId": "93e4b05f-abc9-483d-85e7-cba5865d2837"
      },
      "outputs": [
        {
          "ename": "TypeError",
          "evalue": "ignored",
          "output_type": "error",
          "traceback": [
            "\u001b[0;31m---------------------------------------------------------------------------\u001b[0m",
            "\u001b[0;31mTypeError\u001b[0m                                 Traceback (most recent call last)",
            "\u001b[0;32m<ipython-input-35-d4df9963fe88>\u001b[0m in \u001b[0;36m<module>\u001b[0;34m\u001b[0m\n\u001b[1;32m      1\u001b[0m \u001b[0ma\u001b[0m \u001b[0;34m=\u001b[0m \u001b[0;34m(\u001b[0m\u001b[0;36m0\u001b[0m\u001b[0;34m,\u001b[0m \u001b[0;36m1\u001b[0m\u001b[0;34m,\u001b[0m \u001b[0;36m2\u001b[0m\u001b[0;34m,\u001b[0m \u001b[0;36m3\u001b[0m\u001b[0;34m,\u001b[0m \u001b[0;36m4\u001b[0m\u001b[0;34m,\u001b[0m \u001b[0;36m5\u001b[0m\u001b[0;34m,\u001b[0m \u001b[0;34m\"a\"\u001b[0m\u001b[0;34m)\u001b[0m\u001b[0;34m\u001b[0m\u001b[0;34m\u001b[0m\u001b[0m\n\u001b[1;32m      2\u001b[0m \u001b[0;31m# print(a[6])\u001b[0m\u001b[0;34m\u001b[0m\u001b[0;34m\u001b[0m\u001b[0m\n\u001b[0;32m----> 3\u001b[0;31m \u001b[0;32mdel\u001b[0m \u001b[0ma\u001b[0m\u001b[0;34m[\u001b[0m\u001b[0;36m6\u001b[0m\u001b[0;34m]\u001b[0m\u001b[0;34m\u001b[0m\u001b[0;34m\u001b[0m\u001b[0m\n\u001b[0m\u001b[1;32m      4\u001b[0m \u001b[0ma\u001b[0m\u001b[0;34m\u001b[0m\u001b[0;34m\u001b[0m\u001b[0m\n",
            "\u001b[0;31mTypeError\u001b[0m: 'tuple' object doesn't support item deletion"
          ]
        }
      ],
      "source": [
        "a = (0, 1, 2, 3, 4, 5, \"a\")\n",
        "# print(a[6])\n",
        "del a[6]\n",
        "a"
      ]
    },
    {
      "cell_type": "markdown",
      "metadata": {
        "id": "ZqOWtse93Z6C"
      },
      "source": [
        "- 수정"
      ]
    },
    {
      "cell_type": "code",
      "execution_count": 36,
      "metadata": {
        "colab": {
          "base_uri": "https://localhost:8080/"
        },
        "id": "5nB9DZlb3bAY",
        "outputId": "cfcf3c2e-7c63-4a80-9110-da20133b63f9"
      },
      "outputs": [
        {
          "data": {
            "text/plain": [
              "[1, 1, 1, 1]"
            ]
          },
          "execution_count": 36,
          "metadata": {},
          "output_type": "execute_result"
        }
      ],
      "source": [
        "a = [1,1,1, 'a']\n",
        "a[3] = 1\n",
        "a"
      ]
    },
    {
      "cell_type": "code",
      "execution_count": 37,
      "metadata": {
        "colab": {
          "base_uri": "https://localhost:8080/",
          "height": 211
        },
        "id": "3HH5AP4w3j9l",
        "outputId": "28073dde-5ecd-4b67-fabe-9c300e6d70ee"
      },
      "outputs": [
        {
          "ename": "TypeError",
          "evalue": "ignored",
          "output_type": "error",
          "traceback": [
            "\u001b[0;31m---------------------------------------------------------------------------\u001b[0m",
            "\u001b[0;31mTypeError\u001b[0m                                 Traceback (most recent call last)",
            "\u001b[0;32m<ipython-input-37-69936cfdbcd8>\u001b[0m in \u001b[0;36m<module>\u001b[0;34m\u001b[0m\n\u001b[1;32m      1\u001b[0m \u001b[0ma\u001b[0m \u001b[0;34m=\u001b[0m \u001b[0;34m(\u001b[0m\u001b[0;36m1\u001b[0m\u001b[0;34m,\u001b[0m\u001b[0;36m1\u001b[0m\u001b[0;34m,\u001b[0m\u001b[0;36m1\u001b[0m\u001b[0;34m,\u001b[0m \u001b[0;34m'a'\u001b[0m\u001b[0;34m)\u001b[0m\u001b[0;34m\u001b[0m\u001b[0;34m\u001b[0m\u001b[0m\n\u001b[0;32m----> 2\u001b[0;31m \u001b[0ma\u001b[0m\u001b[0;34m[\u001b[0m\u001b[0;36m3\u001b[0m\u001b[0;34m]\u001b[0m \u001b[0;34m=\u001b[0m \u001b[0;36m1\u001b[0m\u001b[0;34m\u001b[0m\u001b[0;34m\u001b[0m\u001b[0m\n\u001b[0m\u001b[1;32m      3\u001b[0m \u001b[0ma\u001b[0m\u001b[0;34m\u001b[0m\u001b[0;34m\u001b[0m\u001b[0m\n",
            "\u001b[0;31mTypeError\u001b[0m: 'tuple' object does not support item assignment"
          ]
        }
      ],
      "source": [
        "a = (1,1,1, 'a')\n",
        "a[3] = 1\n",
        "a"
      ]
    },
    {
      "cell_type": "markdown",
      "metadata": {
        "id": "5e9i6R7_4EuU"
      },
      "source": [
        "### 슬라이싱, 인덱싱\n",
        "- 각자 실습"
      ]
    },
    {
      "cell_type": "markdown",
      "metadata": {
        "id": "1OU3uYnN4KyF"
      },
      "source": [
        "### 더하기 및 곱셈 연산자 사용"
      ]
    },
    {
      "cell_type": "code",
      "execution_count": 39,
      "metadata": {
        "colab": {
          "base_uri": "https://localhost:8080/"
        },
        "id": "z7DzBgDn3__u",
        "outputId": "69481c00-21bd-441a-dad4-e61abd7de9ac"
      },
      "outputs": [
        {
          "name": "stdout",
          "output_type": "stream",
          "text": [
            "(0, 1, 2, 3, 4, 'a', 'b', 'c')\n",
            "(0, 1, 2, 3, 4, 0, 1, 2, 3, 4, 0, 1, 2, 3, 4)\n",
            "()\n"
          ]
        }
      ],
      "source": [
        "t1 = (0, 1, 2, 3, 4)\n",
        "t2 = ('a', 'b', 'c')\n",
        "\n",
        "print(t1 + t2)\n",
        "print(t1 * 3)\n",
        "print(t1 * 0)"
      ]
    },
    {
      "cell_type": "markdown",
      "metadata": {
        "id": "7-C0L5ha4iNu"
      },
      "source": [
        "## 딕셔너리\n",
        "- "
      ]
    },
    {
      "cell_type": "code",
      "execution_count": 40,
      "metadata": {
        "colab": {
          "base_uri": "https://localhost:8080/"
        },
        "id": "ECj3T2QR5Q1K",
        "outputId": "9d966b9e-47ec-432f-96fa-5a8a2718efaf"
      },
      "outputs": [
        {
          "data": {
            "text/plain": [
              "{'a': [0, 1, 2, 3], 'b': '휴먼', 'c': 100}"
            ]
          },
          "execution_count": 40,
          "metadata": {},
          "output_type": "execute_result"
        }
      ],
      "source": [
        "temp_dict = {\n",
        "    \"a\" : [0, 1, 2, 3], \n",
        "    \"b\" : \"휴먼\", \n",
        "    \"c\" : 100\n",
        "}\n",
        "\n",
        "temp_dict "
      ]
    },
    {
      "cell_type": "code",
      "execution_count": 43,
      "metadata": {
        "colab": {
          "base_uri": "https://localhost:8080/"
        },
        "id": "TdVLdoMo5yVB",
        "outputId": "70bc20f5-7f84-4c0b-e282-9d2f3e0fc446"
      },
      "outputs": [
        {
          "data": {
            "text/plain": [
              "100"
            ]
          },
          "execution_count": 43,
          "metadata": {},
          "output_type": "execute_result"
        }
      ],
      "source": [
        "temp_dict['c']"
      ]
    },
    {
      "cell_type": "code",
      "execution_count": 44,
      "metadata": {
        "colab": {
          "base_uri": "https://localhost:8080/",
          "height": 174
        },
        "id": "gG4pTk836CSx",
        "outputId": "b4814361-57ee-431f-d3f9-fd60670204a1"
      },
      "outputs": [
        {
          "ename": "KeyError",
          "evalue": "ignored",
          "output_type": "error",
          "traceback": [
            "\u001b[0;31m---------------------------------------------------------------------------\u001b[0m",
            "\u001b[0;31mKeyError\u001b[0m                                  Traceback (most recent call last)",
            "\u001b[0;32m<ipython-input-44-bb93225c332d>\u001b[0m in \u001b[0;36m<module>\u001b[0;34m\u001b[0m\n\u001b[0;32m----> 1\u001b[0;31m \u001b[0mtemp_dict\u001b[0m\u001b[0;34m[\u001b[0m\u001b[0;34m'd'\u001b[0m\u001b[0;34m]\u001b[0m\u001b[0;34m\u001b[0m\u001b[0;34m\u001b[0m\u001b[0m\n\u001b[0m",
            "\u001b[0;31mKeyError\u001b[0m: 'd'"
          ]
        }
      ],
      "source": [
        "temp_dict['d']"
      ]
    },
    {
      "cell_type": "code",
      "execution_count": 49,
      "metadata": {
        "colab": {
          "base_uri": "https://localhost:8080/",
          "height": 248
        },
        "id": "Nl2bmr8I7KO0",
        "outputId": "ecab003e-abbe-4333-b686-385535161aa5"
      },
      "outputs": [
        {
          "ename": "AttributeError",
          "evalue": "ignored",
          "output_type": "error",
          "traceback": [
            "\u001b[0;31m---------------------------------------------------------------------------\u001b[0m",
            "\u001b[0;31mAttributeError\u001b[0m                            Traceback (most recent call last)",
            "\u001b[0;32m<ipython-input-49-865ea9ba6694>\u001b[0m in \u001b[0;36m<module>\u001b[0;34m\u001b[0m\n\u001b[1;32m      3\u001b[0m \u001b[0;31m# 리스트로 변환\u001b[0m\u001b[0;34m\u001b[0m\u001b[0;34m\u001b[0m\u001b[0m\n\u001b[1;32m      4\u001b[0m \u001b[0mresult\u001b[0m \u001b[0;34m=\u001b[0m \u001b[0mtemp_dict\u001b[0m\u001b[0;34m.\u001b[0m\u001b[0mkeys\u001b[0m\u001b[0;34m(\u001b[0m\u001b[0;34m)\u001b[0m\u001b[0;34m\u001b[0m\u001b[0;34m\u001b[0m\u001b[0m\n\u001b[0;32m----> 5\u001b[0;31m \u001b[0mresult\u001b[0m\u001b[0;34m.\u001b[0m\u001b[0mappend\u001b[0m\u001b[0;34m(\u001b[0m\u001b[0;34m\"d\"\u001b[0m\u001b[0;34m)\u001b[0m\u001b[0;34m\u001b[0m\u001b[0;34m\u001b[0m\u001b[0m\n\u001b[0m\u001b[1;32m      6\u001b[0m \u001b[0;34m\u001b[0m\u001b[0m\n\u001b[1;32m      7\u001b[0m \u001b[0mprint\u001b[0m\u001b[0;34m(\u001b[0m\u001b[0mresult\u001b[0m\u001b[0;34m)\u001b[0m\u001b[0;34m\u001b[0m\u001b[0;34m\u001b[0m\u001b[0m\n",
            "\u001b[0;31mAttributeError\u001b[0m: 'dict_keys' object has no attribute 'append'"
          ]
        }
      ],
      "source": [
        "# print(type(temp_dict.keys()))\n",
        "\n",
        "# 리스트로 변환\n",
        "result = temp_dict.keys()\n",
        "result.append(\"d\")\n",
        "\n",
        "print(result)\n",
        "result = list(temp_dict.keys())\n",
        "\n",
        "print(result)\n",
        "print(type(result))"
      ]
    },
    {
      "cell_type": "code",
      "execution_count": 52,
      "metadata": {
        "colab": {
          "base_uri": "https://localhost:8080/"
        },
        "id": "53Z12v5P8Wpz",
        "outputId": "b4692a42-8da3-465e-e0b8-37e448c4f6ef"
      },
      "outputs": [
        {
          "name": "stdout",
          "output_type": "stream",
          "text": [
            "<class 'dict_values'>\n",
            "dict_values([[0, 1, 2, 3], '휴먼', 100])\n"
          ]
        }
      ],
      "source": [
        "result = temp_dict.values()\n",
        "print(type(result))\n",
        "print(result)"
      ]
    },
    {
      "cell_type": "code",
      "execution_count": 57,
      "metadata": {
        "colab": {
          "base_uri": "https://localhost:8080/"
        },
        "id": "5bP9da8B8sYu",
        "outputId": "238aecf5-477f-44fb-d654-166552bc8fdd"
      },
      "outputs": [
        {
          "name": "stdout",
          "output_type": "stream",
          "text": [
            "[('name', '휴먼'), ('age', 50), ('job', '학생')]\n",
            "휴먼\n"
          ]
        }
      ],
      "source": [
        "a = {'name' : '휴먼', 'age' : 50, 'job' : '학생'}\n",
        "result = list(a.items())\n",
        "print(result)\n",
        "print(result[0][1])"
      ]
    },
    {
      "cell_type": "markdown",
      "metadata": {
        "id": "s0c7qHUIv1P9"
      },
      "source": []
    },
    {
      "cell_type": "markdown",
      "metadata": {
        "id": "YRTcJDFfG79h"
      },
      "source": [
        "### 기초문법\n",
        "- ㅇㅁ러ㅏ이ㅓㅣㅓ"
      ]
    },
    {
      "cell_type": "markdown",
      "metadata": {
        "id": "AZGHuls6G_0j"
      },
      "source": [
        "### 판다스 문법\n",
        "- 어ㅏㅣ러마ㅓ리ㅏ어"
      ]
    },
    {
      "cell_type": "markdown",
      "metadata": {
        "id": "JMEK_JPbHI58"
      },
      "source": [
        "# 대분류2"
      ]
    }
  ],
  "metadata": {
    "colab": {
      "provenance": []
    },
    "kernelspec": {
      "display_name": "Python 3",
      "name": "python3"
    },
    "language_info": {
      "name": "python"
    }
  },
  "nbformat": 4,
  "nbformat_minor": 0
}
