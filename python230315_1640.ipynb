{
  "nbformat": 4,
  "nbformat_minor": 0,
  "metadata": {
    "colab": {
      "provenance": []
    },
    "kernelspec": {
      "name": "python3",
      "display_name": "Python 3"
    },
    "language_info": {
      "name": "python"
    }
  },
  "cells": [
    {
      "cell_type": "markdown",
      "source": [
        "# 대분류"
      ],
      "metadata": {
        "id": "S8lgSIyfHGBE"
      }
    },
    {
      "cell_type": "markdown",
      "source": [
        "## 자기소개\n",
        "- 이름, 과거직장경력, 이 과정 이수 후 어디로 취업 희망\n",
        "-- 개발자 / 분석가"
      ],
      "metadata": {
        "id": "JLvrNC28GeTJ"
      }
    },
    {
      "cell_type": "code",
      "source": [
        "1+1"
      ],
      "metadata": {
        "colab": {
          "base_uri": "https://localhost:8080/"
        },
        "id": "f1Yjr5_1HRxD",
        "outputId": "96de417e-a781-450b-ae8e-90bb82bfe7c7"
      },
      "execution_count": null,
      "outputs": [
        {
          "output_type": "execute_result",
          "data": {
            "text/plain": [
              "2"
            ]
          },
          "metadata": {},
          "execution_count": 1
        }
      ]
    },
    {
      "cell_type": "code",
      "execution_count": null,
      "metadata": {
        "colab": {
          "base_uri": "https://localhost:8080/"
        },
        "id": "4v1829k4F__z",
        "outputId": "495b664f-e2c1-4e64-d6bd-264fd01edf1f"
      },
      "outputs": [
        {
          "output_type": "stream",
          "name": "stdout",
          "text": [
            "Hello World\n"
          ]
        }
      ],
      "source": [
        "print(\"Hello World\")"
      ]
    },
    {
      "cell_type": "markdown",
      "source": [
        "## 파이선 기초 문법\n",
        "- 주석처리\n",
        "- 여러 줄 주석처리 시, \n",
        "  + 함수, 클래스 작성할 때 요긴하게 쓰임 (예 : Docstring)\n"
      ],
      "metadata": {
        "id": "oKi98HxLGzEf"
      }
    },
    {
      "cell_type": "code",
      "source": [
        "# 이 코드는 무슨무슨 코드임\n",
        "\n",
        "'''\n",
        "여러줄 주석 처리\n",
        "어ㅏㄹ어마ㅓ랑\n",
        "'''\n",
        "\n",
        "\"\"\"\n",
        "어ㅏ러마ㅏㅣㅓ\n",
        "\"\"\"\n",
        "\n",
        "print(\"Hello World\")"
      ],
      "metadata": {
        "colab": {
          "base_uri": "https://localhost:8080/"
        },
        "id": "bGnw3zbve6qM",
        "outputId": "4135e1f9-83fb-4b5d-e6d7-253fce4df70c"
      },
      "execution_count": null,
      "outputs": [
        {
          "output_type": "stream",
          "name": "stdout",
          "text": [
            "Hello World\n"
          ]
        }
      ]
    },
    {
      "cell_type": "markdown",
      "source": [
        "## 변수의 종류 (Scala 자료형)\n",
        "- 4가지 존재 : int, float, bool, None\n",
        "- 스칼라의 의미 : 더 이상 나누어지지 않는 것"
      ],
      "metadata": {
        "id": "Yo6h7k3thP-N"
      }
    },
    {
      "cell_type": "markdown",
      "source": [
        "### int형 예제\n"
      ],
      "metadata": {
        "id": "cJ7aVCLshkl6"
      }
    },
    {
      "cell_type": "code",
      "source": [
        "temp_int = 1\n",
        "print(temp_int)\n",
        "print(type(temp_int))"
      ],
      "metadata": {
        "colab": {
          "base_uri": "https://localhost:8080/"
        },
        "id": "uzDKhXNohPfq",
        "outputId": "2c0cfa81-b7bb-4502-eba8-3562901277a9"
      },
      "execution_count": null,
      "outputs": [
        {
          "output_type": "stream",
          "name": "stdout",
          "text": [
            "1\n",
            "<class 'int'>\n"
          ]
        }
      ]
    },
    {
      "cell_type": "markdown",
      "source": [
        "- 문자열"
      ],
      "metadata": {
        "id": "WbXzh1Upi6W4"
      }
    },
    {
      "cell_type": "code",
      "source": [
        "temp_int = '1'\n",
        "print(temp_int)\n",
        "print(type(temp_int))"
      ],
      "metadata": {
        "colab": {
          "base_uri": "https://localhost:8080/"
        },
        "id": "Ct29FVXJi789",
        "outputId": "cfc9cc24-9b99-46c5-d5bd-00b3011586fe"
      },
      "execution_count": null,
      "outputs": [
        {
          "output_type": "stream",
          "name": "stdout",
          "text": [
            "1\n",
            "<class 'str'>\n"
          ]
        }
      ]
    },
    {
      "cell_type": "markdown",
      "source": [
        "### float형 예제\n",
        "- 실수형"
      ],
      "metadata": {
        "id": "EHFDF6AjjeZZ"
      }
    },
    {
      "cell_type": "code",
      "source": [],
      "metadata": {
        "id": "mejgcS5AkomP"
      },
      "execution_count": null,
      "outputs": []
    },
    {
      "cell_type": "code",
      "source": [
        "num_float = 0.2 \n",
        "print(num_float)\n",
        "print(type(num_float))"
      ],
      "metadata": {
        "colab": {
          "base_uri": "https://localhost:8080/"
        },
        "id": "-1t6IVKUjj8G",
        "outputId": "1501c76e-df60-40be-9bfb-1a454a042801"
      },
      "execution_count": null,
      "outputs": [
        {
          "output_type": "stream",
          "name": "stdout",
          "text": [
            "0.2\n",
            "<class 'float'>\n"
          ]
        }
      ]
    },
    {
      "cell_type": "markdown",
      "source": [
        "### Bool 형\n",
        "- 참 거짓"
      ],
      "metadata": {
        "id": "etcjdWGBkF7G"
      }
    },
    {
      "cell_type": "code",
      "source": [
        "temp_bool = True\n",
        "temp_bool = False\n",
        "\n",
        "print(type(temp_bool))"
      ],
      "metadata": {
        "colab": {
          "base_uri": "https://localhost:8080/"
        },
        "id": "inwzazSkkJxn",
        "outputId": "42eb1476-67cf-4b4e-fa07-ce2899bacf70"
      },
      "execution_count": null,
      "outputs": [
        {
          "output_type": "stream",
          "name": "stdout",
          "text": [
            "<class 'bool'>\n"
          ]
        }
      ]
    },
    {
      "cell_type": "markdown",
      "source": [
        "### None 자료형\n",
        "- Null을 나타내는 자료형\n",
        "  + 데이터분석에서 가장 처리하기 까다로운 자료형"
      ],
      "metadata": {
        "id": "oI9ji9vMk6GD"
      }
    },
    {
      "cell_type": "code",
      "source": [
        "temp_none = None \n",
        "print(type(temp_none))"
      ],
      "metadata": {
        "colab": {
          "base_uri": "https://localhost:8080/"
        },
        "id": "1lS1oa0BlUJE",
        "outputId": "c8af0276-b609-41dd-e943-9ab3294aacfb"
      },
      "execution_count": null,
      "outputs": [
        {
          "output_type": "stream",
          "name": "stdout",
          "text": [
            "<class 'NoneType'>\n"
          ]
        }
      ]
    },
    {
      "cell_type": "markdown",
      "source": [
        "## 사칙연산\n",
        "- 정수형 사칙연산"
      ],
      "metadata": {
        "id": "qXHDFAuGnHdm"
      }
    },
    {
      "cell_type": "code",
      "source": [
        "a = 6\n",
        "b = 2\n",
        "\n",
        "print(a + b) # 덧셈\n",
        "print(a - b) # 뺄셈\n",
        "print(a * b) # 곱셈\n",
        "print(a / b) # 나누기\n",
        "print(a // b) # 몫\n",
        "print(a ** b) # 제곱\n",
        "print(a % b) # 나머지"
      ],
      "metadata": {
        "colab": {
          "base_uri": "https://localhost:8080/"
        },
        "id": "TvtvlDTGnJ_5",
        "outputId": "2a34c679-d817-4cc4-b8ab-582aa1fcd829"
      },
      "execution_count": null,
      "outputs": [
        {
          "output_type": "stream",
          "name": "stdout",
          "text": [
            "8\n",
            "4\n",
            "12\n",
            "3.0\n",
            "3\n",
            "36\n",
            "0\n"
          ]
        }
      ]
    },
    {
      "cell_type": "markdown",
      "source": [
        "### 실수형 사칙연산"
      ],
      "metadata": {
        "id": "6xMtvJFornv6"
      }
    },
    {
      "cell_type": "code",
      "source": [
        "a = 6.0\n",
        "b = 2.0\n",
        "\n",
        "print(a + b) # 덧셈\n",
        "print(a - b) # 뺄셈\n",
        "print(a * b) # 곱셈\n",
        "print(a / b) # 나누기\n",
        "print(a // b) # 몫\n",
        "print(a ** b) # 제곱\n",
        "print(a % b) # 나머지"
      ],
      "metadata": {
        "colab": {
          "base_uri": "https://localhost:8080/"
        },
        "id": "1fTnEg85rpwv",
        "outputId": "410c47f4-fdcd-46ed-be71-2519b0c4e2f2"
      },
      "execution_count": null,
      "outputs": [
        {
          "output_type": "stream",
          "name": "stdout",
          "text": [
            "8.0\n",
            "4.0\n",
            "12.0\n",
            "3.0\n",
            "3.0\n",
            "36.0\n",
            "0.0\n"
          ]
        }
      ]
    },
    {
      "cell_type": "markdown",
      "source": [
        "### 논리형 연산자\n",
        "- AND 조건, OR 조건이 있음"
      ],
      "metadata": {
        "id": "qE8fv5KPsG_t"
      }
    },
    {
      "cell_type": "code",
      "source": [
        "print(True and True)\n",
        "print(True and False)\n",
        "print(False and True)\n",
        "print(False and False)"
      ],
      "metadata": {
        "colab": {
          "base_uri": "https://localhost:8080/"
        },
        "id": "O7onvtv2rdXQ",
        "outputId": "c635d71c-ce09-469a-c9b2-539d098ec41c"
      },
      "execution_count": null,
      "outputs": [
        {
          "output_type": "stream",
          "name": "stdout",
          "text": [
            "True\n",
            "False\n",
            "False\n",
            "False\n"
          ]
        }
      ]
    },
    {
      "cell_type": "code",
      "source": [
        "print(True or True)\n",
        "print(True or False)\n",
        "print(False or True)\n",
        "print(False or False)"
      ],
      "metadata": {
        "colab": {
          "base_uri": "https://localhost:8080/"
        },
        "id": "pdpZYWSGtSTr",
        "outputId": "03da4182-6a44-4b20-b89d-b786add0f5a3"
      },
      "execution_count": null,
      "outputs": [
        {
          "output_type": "stream",
          "name": "stdout",
          "text": [
            "True\n",
            "True\n",
            "True\n",
            "False\n"
          ]
        }
      ]
    },
    {
      "cell_type": "markdown",
      "source": [
        "### 비교 연산자\n",
        "- 비교 연산자는 부등호를 의미함\n",
        "- 왼쪽이 기준 값"
      ],
      "metadata": {
        "id": "RlBX88TDtp5q"
      }
    },
    {
      "cell_type": "code",
      "source": [
        "print(4 > 3)\n",
        "print(3 > 4)\n",
        "print(3 >= 4)\n",
        "print(3 <= 4)"
      ],
      "metadata": {
        "colab": {
          "base_uri": "https://localhost:8080/"
        },
        "id": "q8QWqjfntvwI",
        "outputId": "c066568e-fb05-4cae-ad88-4aa7e976559d"
      },
      "execution_count": null,
      "outputs": [
        {
          "output_type": "stream",
          "name": "stdout",
          "text": [
            "True\n",
            "False\n",
            "False\n",
            "True\n"
          ]
        }
      ]
    },
    {
      "cell_type": "markdown",
      "source": [
        "## input()\n",
        "- print() : 출력\n",
        "- input() : 입력"
      ],
      "metadata": {
        "id": "Nd8Tc-4euIW-"
      }
    },
    {
      "cell_type": "code",
      "source": [
        "var = input(\"값을 입력해주세요!! \")\n",
        "int_var = int(var)\n",
        "print(int_var)\n",
        "print(type(int_var))"
      ],
      "metadata": {
        "colab": {
          "base_uri": "https://localhost:8080/"
        },
        "id": "ZshMs9KtzVPD",
        "outputId": "986d9d0b-9eae-4e93-9e24-a1dc7cf0f6e9"
      },
      "execution_count": null,
      "outputs": [
        {
          "output_type": "stream",
          "name": "stdout",
          "text": [
            "값을 입력해주세요!! 6\n",
            "6\n",
            "<class 'int'>\n"
          ]
        }
      ]
    },
    {
      "cell_type": "code",
      "source": [
        "var = input(\"값을 입력해주세요!! \")\n",
        "print(var)\n",
        "\n",
        "var = int(var)\n",
        "print(type(var))"
      ],
      "metadata": {
        "colab": {
          "base_uri": "https://localhost:8080/"
        },
        "id": "vNPDywUKuQ2-",
        "outputId": "8f31e0ee-55bb-46f2-ce5d-eb68e21a320f"
      },
      "execution_count": null,
      "outputs": [
        {
          "output_type": "stream",
          "name": "stdout",
          "text": [
            "값을 입력해주세요!! 5\n",
            "5\n",
            "<class 'int'>\n"
          ]
        }
      ]
    },
    {
      "cell_type": "code",
      "source": [
        "num1 = int(input(\"값을 입력해주세요!! \"))\n",
        "num2 = int(input(\"값을 입력해주세요!! \"))\n",
        "\n",
        "result = num1 + num2 \n",
        "print(result)"
      ],
      "metadata": {
        "colab": {
          "base_uri": "https://localhost:8080/"
        },
        "id": "De7E-U5wvL9E",
        "outputId": "4bf8cdbd-b0d0-4d91-d7c4-a27dcb8d939a"
      },
      "execution_count": null,
      "outputs": [
        {
          "output_type": "stream",
          "name": "stdout",
          "text": [
            "값을 입력해주세요!! 10\n",
            "값을 입력해주세요!! 20\n",
            "30\n"
          ]
        }
      ]
    },
    {
      "cell_type": "markdown",
      "source": [
        "## String\n",
        "- 매우 중요함!!!!!!!!!!! \n",
        "- "
      ],
      "metadata": {
        "id": "f7oN1kC-0Um2"
      }
    },
    {
      "cell_type": "markdown",
      "source": [
        "### String 연산자"
      ],
      "metadata": {
        "id": "UjJbQcAK7B_C"
      }
    },
    {
      "cell_type": "code",
      "source": [
        "str1 = \"Hello \"\n",
        "str2 = \"World\"\n",
        "\n",
        "print(str1 + str2)"
      ],
      "metadata": {
        "colab": {
          "base_uri": "https://localhost:8080/"
        },
        "id": "Ibzq96B86B5_",
        "outputId": "97549919-bb1e-4200-9919-0f34db4bfc75"
      },
      "execution_count": null,
      "outputs": [
        {
          "output_type": "stream",
          "name": "stdout",
          "text": [
            "Hello World\n"
          ]
        }
      ]
    },
    {
      "cell_type": "code",
      "source": [
        "str1 = \"Hello \"\n",
        "str2 = \"World\"\n",
        "\n",
        "result = str1 + str2\n",
        "print(result)"
      ],
      "metadata": {
        "colab": {
          "base_uri": "https://localhost:8080/"
        },
        "id": "Z-c1Rb9y6vs0",
        "outputId": "b8e7d545-6521-46cf-9b1c-496a38ae1578"
      },
      "execution_count": null,
      "outputs": [
        {
          "output_type": "stream",
          "name": "stdout",
          "text": [
            "Hello World\n"
          ]
        }
      ]
    },
    {
      "cell_type": "code",
      "source": [
        "str1 = \"55\"\n",
        "str2 = \"1000\"\n",
        "print(int(str1) + int(str2))"
      ],
      "metadata": {
        "colab": {
          "base_uri": "https://localhost:8080/"
        },
        "id": "MB3udw0E6YeP",
        "outputId": "ec772d81-c3a0-4691-c3ad-dad2ed6ade16"
      },
      "execution_count": null,
      "outputs": [
        {
          "output_type": "stream",
          "name": "stdout",
          "text": [
            "1055\n"
          ]
        }
      ]
    },
    {
      "cell_type": "markdown",
      "source": [
        "- 곱셈 연산자 사용"
      ],
      "metadata": {
        "id": "6teHtBY16-L9"
      }
    },
    {
      "cell_type": "code",
      "source": [
        "greeting = \"Hello World \"\n",
        "print(greeting * 3)"
      ],
      "metadata": {
        "colab": {
          "base_uri": "https://localhost:8080/"
        },
        "id": "DbeVooQk69_e",
        "outputId": "896c3519-f5d4-403d-c765-91da7021e26e"
      },
      "execution_count": null,
      "outputs": [
        {
          "output_type": "stream",
          "name": "stdout",
          "text": [
            "Hello World Hello World Hello World \n"
          ]
        }
      ]
    },
    {
      "cell_type": "markdown",
      "source": [
        "### Indexing \n",
        "- 중요!! \n",
        "- 0번째부터 시작"
      ],
      "metadata": {
        "id": "XAAiGMDE7aWS"
      }
    },
    {
      "cell_type": "code",
      "source": [
        "greeting = \"Hello World!\"\n",
        "print(greeting[-3])"
      ],
      "metadata": {
        "colab": {
          "base_uri": "https://localhost:8080/"
        },
        "id": "-JaIpEtP7e6Y",
        "outputId": "df350576-22a6-4123-cd78-b33a9b2f6930"
      },
      "execution_count": null,
      "outputs": [
        {
          "output_type": "stream",
          "name": "stdout",
          "text": [
            "l\n"
          ]
        }
      ]
    },
    {
      "cell_type": "markdown",
      "source": [
        "### 슬라이싱\n",
        "- 자름"
      ],
      "metadata": {
        "id": "lkv8TZ8o8dz2"
      }
    },
    {
      "cell_type": "code",
      "source": [
        "greeting = \"Hello World!\"\n",
        "print(greeting[0:5])\n",
        "print(greeting[:])\n",
        "print(greeting[6:])\n",
        "print(greeting[3:9])\n",
        "print(greeting[5:-1])\n",
        "print(greeting[0:9:2])"
      ],
      "metadata": {
        "colab": {
          "base_uri": "https://localhost:8080/"
        },
        "id": "lmmD__9i8skf",
        "outputId": "1aa65cbd-4837-418f-b47a-3f4ee9b8209b"
      },
      "execution_count": null,
      "outputs": [
        {
          "output_type": "stream",
          "name": "stdout",
          "text": [
            "Hello\n",
            "Hello World!\n",
            "World!\n",
            "lo Wor\n",
            " World\n",
            "HloWr\n"
          ]
        }
      ]
    },
    {
      "cell_type": "code",
      "source": [
        "greeting = \"Hello World!!!!!\"\n",
        "greeting[20]"
      ],
      "metadata": {
        "colab": {
          "base_uri": "https://localhost:8080/",
          "height": 190
        },
        "id": "B6c90uM--vZs",
        "outputId": "e26da404-7395-403b-dd8e-5c0469718715"
      },
      "execution_count": null,
      "outputs": [
        {
          "output_type": "error",
          "ename": "IndexError",
          "evalue": "ignored",
          "traceback": [
            "\u001b[0;31m---------------------------------------------------------------------------\u001b[0m",
            "\u001b[0;31mIndexError\u001b[0m                                Traceback (most recent call last)",
            "\u001b[0;32m<ipython-input-34-e143dfc4298d>\u001b[0m in \u001b[0;36m<module>\u001b[0;34m\u001b[0m\n\u001b[1;32m      1\u001b[0m \u001b[0mgreeting\u001b[0m \u001b[0;34m=\u001b[0m \u001b[0;34m\"Hello World!!!!!\"\u001b[0m\u001b[0;34m\u001b[0m\u001b[0;34m\u001b[0m\u001b[0m\n\u001b[0;32m----> 2\u001b[0;31m \u001b[0mgreeting\u001b[0m\u001b[0;34m[\u001b[0m\u001b[0;36m20\u001b[0m\u001b[0;34m]\u001b[0m\u001b[0;34m\u001b[0m\u001b[0;34m\u001b[0m\u001b[0m\n\u001b[0m",
            "\u001b[0;31mIndexError\u001b[0m: string index out of range"
          ]
        }
      ]
    },
    {
      "cell_type": "markdown",
      "source": [
        "### 문자열의 함수들\n",
        "- 공식문서! \n",
        "- 문자를 모두다 대문자로 바꾸겠습니다. "
      ],
      "metadata": {
        "id": "moWI0wgN_x1X"
      }
    },
    {
      "cell_type": "code",
      "source": [
        "tmp_string = \"Java\"\n",
        "\n",
        "# 변수명 저장! \n",
        "# 변수명 저장함과 동시에, 클래스로 바뀜\n",
        "print(tmp_string.upper())\n",
        "print(tmp_string.lower())"
      ],
      "metadata": {
        "colab": {
          "base_uri": "https://localhost:8080/"
        },
        "id": "-CPIzG_dBAr8",
        "outputId": "ed0bc85b-7bca-48c3-8dda-d5114e86e730"
      },
      "execution_count": 9,
      "outputs": [
        {
          "output_type": "stream",
          "name": "stdout",
          "text": [
            "JAVA\n",
            "java\n"
          ]
        }
      ]
    },
    {
      "cell_type": "markdown",
      "source": [
        "- 참조 : https://docs.python.org/3/library/stdtypes.html#str.split"
      ],
      "metadata": {
        "id": "CzfFFE2oEcQk"
      }
    },
    {
      "cell_type": "code",
      "source": [
        "tmp_string = \"BMW-BENZ-TESLA-KIA\"\n",
        "print(tmp_string.split(sep = '-'))"
      ],
      "metadata": {
        "colab": {
          "base_uri": "https://localhost:8080/"
        },
        "id": "TC6D8Dt3D6g6",
        "outputId": "6b429f31-66f9-464a-81da-0345441db851"
      },
      "execution_count": 11,
      "outputs": [
        {
          "output_type": "stream",
          "name": "stdout",
          "text": [
            "['BMW', 'BENZ', 'TESLA', 'KIA']\n"
          ]
        }
      ]
    },
    {
      "cell_type": "markdown",
      "source": [
        "## 리스트\n",
        "- 자바의 배열 "
      ],
      "metadata": {
        "id": "W7A7yhPiFr92"
      }
    },
    {
      "cell_type": "code",
      "source": [
        "a = []\n",
        "a_func = list() # list() 함수로도 빈 리스트 생성\n",
        "b = [1]\n",
        "c = ['Apple']\n",
        "d = [1, 2, ['apple']]\n",
        "\n",
        "print(a)\n",
        "print(a_func)\n",
        "print(b)\n",
        "print(c)\n",
        "print(d)"
      ],
      "metadata": {
        "colab": {
          "base_uri": "https://localhost:8080/"
        },
        "id": "SJL0KihvF6Pa",
        "outputId": "f5ceaf66-2179-4154-bb19-84b14cc0160e"
      },
      "execution_count": 12,
      "outputs": [
        {
          "output_type": "stream",
          "name": "stdout",
          "text": [
            "[]\n",
            "[]\n",
            "[1]\n",
            "['Apple']\n",
            "[1, 2, ['apple']]\n"
          ]
        }
      ]
    },
    {
      "cell_type": "code",
      "source": [
        "a = [5, 3, 1, 4, 6, 7]\n",
        "print(a)"
      ],
      "metadata": {
        "colab": {
          "base_uri": "https://localhost:8080/"
        },
        "id": "DnKn5zXeHNNV",
        "outputId": "6c8c3481-8103-4869-9976-7bdf9b0738f7"
      },
      "execution_count": 14,
      "outputs": [
        {
          "output_type": "stream",
          "name": "stdout",
          "text": [
            "[5, 3, 1, 4, 6, 7]\n"
          ]
        }
      ]
    },
    {
      "cell_type": "code",
      "source": [
        "a[0:4]"
      ],
      "metadata": {
        "colab": {
          "base_uri": "https://localhost:8080/"
        },
        "id": "COFvAe6JHWNJ",
        "outputId": "cdc8e5c7-b465-4992-9cd4-8984f756fcf5"
      },
      "execution_count": 19,
      "outputs": [
        {
          "output_type": "execute_result",
          "data": {
            "text/plain": [
              "[5, 3, 1, 4]"
            ]
          },
          "metadata": {},
          "execution_count": 19
        }
      ]
    },
    {
      "cell_type": "markdown",
      "source": [
        "### 중첩리스트(Nested List)\n",
        "- 리스트내의 또 다른 리스트 "
      ],
      "metadata": {
        "id": "qpUUL4GQHl8P"
      }
    },
    {
      "cell_type": "code",
      "source": [
        "a = [['apple', 'banana', 'cherry'], 1]\n",
        "print(a)"
      ],
      "metadata": {
        "colab": {
          "base_uri": "https://localhost:8080/"
        },
        "id": "MujukoQlHt5J",
        "outputId": "e10dcfff-0acf-479d-fad5-6d3bae8bb5c9"
      },
      "execution_count": 20,
      "outputs": [
        {
          "output_type": "stream",
          "name": "stdout",
          "text": [
            "[['apple', 'banana', 'cherry'], 1]\n"
          ]
        }
      ]
    },
    {
      "cell_type": "code",
      "source": [
        "# cherry 글자에서 알파벳 e만 가져오세요\n",
        "temp = a[0]\n",
        "temp2 = temp[2]\n",
        "temp2[2]\n",
        "\n",
        "print(a[0][2][2])"
      ],
      "metadata": {
        "colab": {
          "base_uri": "https://localhost:8080/"
        },
        "id": "H_C-jOB4H2Zt",
        "outputId": "d790756e-c9ed-4989-f78e-41e94eb46159"
      },
      "execution_count": 26,
      "outputs": [
        {
          "output_type": "stream",
          "name": "stdout",
          "text": [
            "e\n"
          ]
        }
      ]
    },
    {
      "cell_type": "markdown",
      "source": [
        "### 리스트 연결 연산자\n",
        "- 덧셈, 곱셈"
      ],
      "metadata": {
        "id": "S0BIyR7QnNU8"
      }
    },
    {
      "cell_type": "code",
      "source": [
        "a = ['alice', 'bob', 'cat']\n",
        "b = ['apple', 'banana', 'cherry']\n",
        "\n",
        "c = a + b \n",
        "print(c )"
      ],
      "metadata": {
        "colab": {
          "base_uri": "https://localhost:8080/"
        },
        "id": "Iuu8oCHInRgm",
        "outputId": "e92da502-8211-434a-ee38-bda332b80c80"
      },
      "execution_count": 1,
      "outputs": [
        {
          "output_type": "stream",
          "name": "stdout",
          "text": [
            "['alice', 'bob', 'cat', 'apple', 'banana', 'cherry']\n"
          ]
        }
      ]
    },
    {
      "cell_type": "code",
      "source": [
        "a = ['a', 'b', 'c']\n",
        "b = a * 5\n",
        "print(b)"
      ],
      "metadata": {
        "colab": {
          "base_uri": "https://localhost:8080/"
        },
        "id": "sGQr9iTioQaN",
        "outputId": "9bd12510-84a1-4fef-8f28-fc831e07896b"
      },
      "execution_count": 3,
      "outputs": [
        {
          "output_type": "stream",
          "name": "stdout",
          "text": [
            "['a', 'b', 'c', 'a', 'b', 'c', 'a', 'b', 'c', 'a', 'b', 'c', 'a', 'b', 'c']\n"
          ]
        }
      ]
    },
    {
      "cell_type": "code",
      "source": [
        "c = a * 0\n",
        "print(c)"
      ],
      "metadata": {
        "colab": {
          "base_uri": "https://localhost:8080/"
        },
        "id": "EBbWdymYoWde",
        "outputId": "7f8d5010-574d-4ef7-f244-965ac40e3cf7"
      },
      "execution_count": 4,
      "outputs": [
        {
          "output_type": "stream",
          "name": "stdout",
          "text": [
            "[]\n"
          ]
        }
      ]
    },
    {
      "cell_type": "markdown",
      "source": [
        "### 리스트 값 수정\n",
        "- 참조 : https://docs.python.org/3/tutorial/datastructures.html"
      ],
      "metadata": {
        "id": "seNGl66cpHyC"
      }
    },
    {
      "cell_type": "code",
      "source": [
        "a = [1, 1, 1]\n",
        "a[1] = None\n",
        "\n",
        "print(a)"
      ],
      "metadata": {
        "colab": {
          "base_uri": "https://localhost:8080/"
        },
        "id": "jwXAdpjmpHIn",
        "outputId": "1ea44da0-9d30-473c-8ccf-bbcf9d5a509f"
      },
      "execution_count": 8,
      "outputs": [
        {
          "output_type": "stream",
          "name": "stdout",
          "text": [
            "[1, None, 1]\n"
          ]
        }
      ]
    },
    {
      "cell_type": "markdown",
      "source": [
        "### 리스트 값 추가하기\n",
        "- append 메서드 사용 (기억)\n",
        "- 반복문 사용 시, 매우 자주 활용 됨"
      ],
      "metadata": {
        "id": "ACsH7UvppqCY"
      }
    },
    {
      "cell_type": "code",
      "source": [
        "a = [100, 200, 300]\n",
        "\n",
        "a.append(400)\n",
        "a.append(500)\n",
        "a.append(600)\n",
        "\n",
        "print(a)"
      ],
      "metadata": {
        "colab": {
          "base_uri": "https://localhost:8080/"
        },
        "id": "HpyQBC0bptY2",
        "outputId": "016da7cf-b11e-4078-c1bc-aed58ec179db"
      },
      "execution_count": 10,
      "outputs": [
        {
          "output_type": "stream",
          "name": "stdout",
          "text": [
            "[100, 200, 300, 400, 500, 600]\n"
          ]
        }
      ]
    },
    {
      "cell_type": "code",
      "source": [
        "a = [100, 200, 300]\n",
        "b = [400, 500, 600]\n",
        "\n",
        "a.append(b)\n",
        "\n",
        "print(a)"
      ],
      "metadata": {
        "colab": {
          "base_uri": "https://localhost:8080/"
        },
        "id": "IhMnXV_sqnW6",
        "outputId": "aa1bd895-0923-479b-f97a-9150c175ac0e"
      },
      "execution_count": 11,
      "outputs": [
        {
          "output_type": "stream",
          "name": "stdout",
          "text": [
            "[100, 200, 300, [400, 500, 600]]\n"
          ]
        }
      ]
    },
    {
      "cell_type": "markdown",
      "source": [
        "### extend() 함수 사용\n",
        "- 여러 개의 요소를 추가하고 싶다면 사용"
      ],
      "metadata": {
        "id": "NbDpES0pqzn_"
      }
    },
    {
      "cell_type": "code",
      "source": [
        "a = [100, 200, 300]\n",
        "b = [400, 500, 600]\n",
        "\n",
        "a.extend(b)\n",
        "\n",
        "print(a)"
      ],
      "metadata": {
        "colab": {
          "base_uri": "https://localhost:8080/"
        },
        "id": "kqsYl-iLq4ol",
        "outputId": "45ac4f14-c194-4452-8189-d91878562d58"
      },
      "execution_count": 12,
      "outputs": [
        {
          "output_type": "stream",
          "name": "stdout",
          "text": [
            "[100, 200, 300, 400, 500, 600]\n"
          ]
        }
      ]
    },
    {
      "cell_type": "markdown",
      "source": [
        "### insert\n",
        "- 특정한 위치에 값을 추가"
      ],
      "metadata": {
        "id": "qKrz1EKyrOB3"
      }
    },
    {
      "cell_type": "code",
      "source": [
        "a = [1, 1, 1, 1, 1, 1, 1]\n",
        "a.insert(6, 100)\n",
        "\n",
        "print(a)"
      ],
      "metadata": {
        "colab": {
          "base_uri": "https://localhost:8080/"
        },
        "id": "tnN2Adh-qXat",
        "outputId": "060a4e36-15c5-4e17-a462-74bc81e27c95"
      },
      "execution_count": 18,
      "outputs": [
        {
          "output_type": "stream",
          "name": "stdout",
          "text": [
            "[1, 1, 1, 1, 1, 1, 100, 1]\n"
          ]
        }
      ]
    },
    {
      "cell_type": "markdown",
      "source": [
        "### 리스트의 값을 삭제\n",
        "- remove() 함수"
      ],
      "metadata": {
        "id": "6e1i7luHsd5u"
      }
    },
    {
      "cell_type": "code",
      "source": [
        "a = [5, 4, 3, 2, 1]\n",
        "a.remove(5) # 숫자는 인덱스 번호 아님, value 값\n",
        "a"
      ],
      "metadata": {
        "colab": {
          "base_uri": "https://localhost:8080/"
        },
        "id": "VMX465MEshPu",
        "outputId": "738a687c-82fb-448a-fd30-224277e5192a"
      },
      "execution_count": 21,
      "outputs": [
        {
          "output_type": "execute_result",
          "data": {
            "text/plain": [
              "[4, 3, 2, 1]"
            ]
          },
          "metadata": {},
          "execution_count": 21
        }
      ]
    },
    {
      "cell_type": "markdown",
      "source": [
        "- pop 함수 "
      ],
      "metadata": {
        "id": "UWJeUmQPs5fN"
      }
    },
    {
      "cell_type": "code",
      "source": [
        "a = [5, 4, 3, 2, 1]\n",
        "a2 = a.pop(4)\n",
        "\n",
        "print(a2)\n",
        "print(a)"
      ],
      "metadata": {
        "colab": {
          "base_uri": "https://localhost:8080/"
        },
        "id": "Yp_0v8Cls98-",
        "outputId": "81cb109e-f548-4775-f660-fc87d865cb27"
      },
      "execution_count": 22,
      "outputs": [
        {
          "output_type": "stream",
          "name": "stdout",
          "text": [
            "1\n",
            "[5, 4, 3, 2]\n"
          ]
        }
      ]
    },
    {
      "cell_type": "markdown",
      "source": [
        "## 그 외 유용한 메서드\n",
        "- clear 함수"
      ],
      "metadata": {
        "id": "Rvpdl19SvOrB"
      }
    },
    {
      "cell_type": "code",
      "source": [
        "a = [0, 1, 2, 3]\n",
        "print(a)\n",
        "\n",
        "a.clear()\n",
        "print(a)"
      ],
      "metadata": {
        "colab": {
          "base_uri": "https://localhost:8080/"
        },
        "id": "IfN6vq_kvc_g",
        "outputId": "d43f7be6-9c7a-4336-c454-5bae37e414e1"
      },
      "execution_count": 23,
      "outputs": [
        {
          "output_type": "stream",
          "name": "stdout",
          "text": [
            "[0, 1, 2, 3]\n",
            "[]\n"
          ]
        }
      ]
    },
    {
      "cell_type": "code",
      "source": [
        "a = [1, 4, 5, 2, 3]\n",
        "a.sort()\n",
        "print(a)"
      ],
      "metadata": {
        "colab": {
          "base_uri": "https://localhost:8080/"
        },
        "id": "3DZhaFBdvqOk",
        "outputId": "8e7385cb-b7b7-49e4-9505-7609b7563f03"
      },
      "execution_count": 25,
      "outputs": [
        {
          "output_type": "stream",
          "name": "stdout",
          "text": [
            "[1, 2, 3, 4, 5]\n"
          ]
        }
      ]
    },
    {
      "cell_type": "code",
      "source": [
        "# 내림차순으로 정렬\n",
        "a = [1, 4, 5, 2, 3]\n",
        "a.sort(reverse=True)\n",
        "print(a)"
      ],
      "metadata": {
        "colab": {
          "base_uri": "https://localhost:8080/"
        },
        "id": "oGSPm8jPv19L",
        "outputId": "e83a6711-b2d8-404a-bd42-d537decd8d38"
      },
      "execution_count": 26,
      "outputs": [
        {
          "output_type": "stream",
          "name": "stdout",
          "text": [
            "[5, 4, 3, 2, 1]\n"
          ]
        }
      ]
    },
    {
      "cell_type": "markdown",
      "source": [
        "## 튜플"
      ],
      "metadata": {
        "id": "pNQpkisU04_Z"
      }
    },
    {
      "cell_type": "code",
      "source": [
        "tuple01 = (0)\n",
        "tuple02 = (0, )\n",
        "tuple03 = 0,1,2\n",
        "\n",
        "print(tuple01)\n",
        "print(tuple02)\n",
        "print(tuple03)\n",
        "\n",
        "print(type(tuple01))\n",
        "print(type(tuple02))\n",
        "print(type(tuple03))"
      ],
      "metadata": {
        "colab": {
          "base_uri": "https://localhost:8080/"
        },
        "id": "fYBzZzSg1I52",
        "outputId": "85772460-483b-44d4-ffac-92a3694b04dc"
      },
      "execution_count": 28,
      "outputs": [
        {
          "output_type": "stream",
          "name": "stdout",
          "text": [
            "0\n",
            "(0,)\n",
            "(0, 1, 2)\n",
            "<class 'int'>\n",
            "<class 'tuple'>\n",
            "<class 'tuple'>\n"
          ]
        }
      ]
    },
    {
      "cell_type": "code",
      "source": [
        "# packing\n",
        "my_tuple = 3, 2, \"A\"\n",
        "print(my_tuple)\n",
        "\n",
        "# Unpacking\n",
        "a, b, c = my_tuple \n",
        "\n",
        "print(a)\n",
        "print(b)\n",
        "print(c)"
      ],
      "metadata": {
        "colab": {
          "base_uri": "https://localhost:8080/"
        },
        "id": "xpRAj5mX1zP1",
        "outputId": "fd524c1b-c7ad-4ea0-9c36-6e845c766a89"
      },
      "execution_count": 30,
      "outputs": [
        {
          "output_type": "stream",
          "name": "stdout",
          "text": [
            "(3, 2, 'A')\n",
            "3\n",
            "2\n",
            "A\n"
          ]
        }
      ]
    },
    {
      "cell_type": "markdown",
      "source": [
        "### 수정 삭제 안됨"
      ],
      "metadata": {
        "id": "nyKNa65e2To-"
      }
    },
    {
      "cell_type": "code",
      "source": [
        "a = [0, 1, 2, 3, 4, 5, \"a\"]\n",
        "del a[6]\n",
        "a"
      ],
      "metadata": {
        "colab": {
          "base_uri": "https://localhost:8080/"
        },
        "id": "zixNNAk22fPQ",
        "outputId": "4f0a43f3-4df3-4a8b-903d-01096a6f6eaf"
      },
      "execution_count": 33,
      "outputs": [
        {
          "output_type": "execute_result",
          "data": {
            "text/plain": [
              "[0, 1, 2, 3, 4, 5]"
            ]
          },
          "metadata": {},
          "execution_count": 33
        }
      ]
    },
    {
      "cell_type": "code",
      "source": [
        "a = (0, 1, 2, 3, 4, 5, \"a\")\n",
        "# print(a[6])\n",
        "del a[6]\n",
        "a"
      ],
      "metadata": {
        "colab": {
          "base_uri": "https://localhost:8080/",
          "height": 229
        },
        "id": "g27U5j3Y2Wfn",
        "outputId": "93e4b05f-abc9-483d-85e7-cba5865d2837"
      },
      "execution_count": 35,
      "outputs": [
        {
          "output_type": "error",
          "ename": "TypeError",
          "evalue": "ignored",
          "traceback": [
            "\u001b[0;31m---------------------------------------------------------------------------\u001b[0m",
            "\u001b[0;31mTypeError\u001b[0m                                 Traceback (most recent call last)",
            "\u001b[0;32m<ipython-input-35-d4df9963fe88>\u001b[0m in \u001b[0;36m<module>\u001b[0;34m\u001b[0m\n\u001b[1;32m      1\u001b[0m \u001b[0ma\u001b[0m \u001b[0;34m=\u001b[0m \u001b[0;34m(\u001b[0m\u001b[0;36m0\u001b[0m\u001b[0;34m,\u001b[0m \u001b[0;36m1\u001b[0m\u001b[0;34m,\u001b[0m \u001b[0;36m2\u001b[0m\u001b[0;34m,\u001b[0m \u001b[0;36m3\u001b[0m\u001b[0;34m,\u001b[0m \u001b[0;36m4\u001b[0m\u001b[0;34m,\u001b[0m \u001b[0;36m5\u001b[0m\u001b[0;34m,\u001b[0m \u001b[0;34m\"a\"\u001b[0m\u001b[0;34m)\u001b[0m\u001b[0;34m\u001b[0m\u001b[0;34m\u001b[0m\u001b[0m\n\u001b[1;32m      2\u001b[0m \u001b[0;31m# print(a[6])\u001b[0m\u001b[0;34m\u001b[0m\u001b[0;34m\u001b[0m\u001b[0m\n\u001b[0;32m----> 3\u001b[0;31m \u001b[0;32mdel\u001b[0m \u001b[0ma\u001b[0m\u001b[0;34m[\u001b[0m\u001b[0;36m6\u001b[0m\u001b[0;34m]\u001b[0m\u001b[0;34m\u001b[0m\u001b[0;34m\u001b[0m\u001b[0m\n\u001b[0m\u001b[1;32m      4\u001b[0m \u001b[0ma\u001b[0m\u001b[0;34m\u001b[0m\u001b[0;34m\u001b[0m\u001b[0m\n",
            "\u001b[0;31mTypeError\u001b[0m: 'tuple' object doesn't support item deletion"
          ]
        }
      ]
    },
    {
      "cell_type": "markdown",
      "source": [
        "- 수정"
      ],
      "metadata": {
        "id": "ZqOWtse93Z6C"
      }
    },
    {
      "cell_type": "code",
      "source": [
        "a = [1,1,1, 'a']\n",
        "a[3] = 1\n",
        "a"
      ],
      "metadata": {
        "colab": {
          "base_uri": "https://localhost:8080/"
        },
        "id": "5nB9DZlb3bAY",
        "outputId": "cfcf3c2e-7c63-4a80-9110-da20133b63f9"
      },
      "execution_count": 36,
      "outputs": [
        {
          "output_type": "execute_result",
          "data": {
            "text/plain": [
              "[1, 1, 1, 1]"
            ]
          },
          "metadata": {},
          "execution_count": 36
        }
      ]
    },
    {
      "cell_type": "code",
      "source": [
        "a = (1,1,1, 'a')\n",
        "a[3] = 1\n",
        "a"
      ],
      "metadata": {
        "colab": {
          "base_uri": "https://localhost:8080/",
          "height": 211
        },
        "id": "3HH5AP4w3j9l",
        "outputId": "28073dde-5ecd-4b67-fabe-9c300e6d70ee"
      },
      "execution_count": 37,
      "outputs": [
        {
          "output_type": "error",
          "ename": "TypeError",
          "evalue": "ignored",
          "traceback": [
            "\u001b[0;31m---------------------------------------------------------------------------\u001b[0m",
            "\u001b[0;31mTypeError\u001b[0m                                 Traceback (most recent call last)",
            "\u001b[0;32m<ipython-input-37-69936cfdbcd8>\u001b[0m in \u001b[0;36m<module>\u001b[0;34m\u001b[0m\n\u001b[1;32m      1\u001b[0m \u001b[0ma\u001b[0m \u001b[0;34m=\u001b[0m \u001b[0;34m(\u001b[0m\u001b[0;36m1\u001b[0m\u001b[0;34m,\u001b[0m\u001b[0;36m1\u001b[0m\u001b[0;34m,\u001b[0m\u001b[0;36m1\u001b[0m\u001b[0;34m,\u001b[0m \u001b[0;34m'a'\u001b[0m\u001b[0;34m)\u001b[0m\u001b[0;34m\u001b[0m\u001b[0;34m\u001b[0m\u001b[0m\n\u001b[0;32m----> 2\u001b[0;31m \u001b[0ma\u001b[0m\u001b[0;34m[\u001b[0m\u001b[0;36m3\u001b[0m\u001b[0;34m]\u001b[0m \u001b[0;34m=\u001b[0m \u001b[0;36m1\u001b[0m\u001b[0;34m\u001b[0m\u001b[0;34m\u001b[0m\u001b[0m\n\u001b[0m\u001b[1;32m      3\u001b[0m \u001b[0ma\u001b[0m\u001b[0;34m\u001b[0m\u001b[0;34m\u001b[0m\u001b[0m\n",
            "\u001b[0;31mTypeError\u001b[0m: 'tuple' object does not support item assignment"
          ]
        }
      ]
    },
    {
      "cell_type": "markdown",
      "source": [
        "### 슬라이싱, 인덱싱\n",
        "- 각자 실습"
      ],
      "metadata": {
        "id": "5e9i6R7_4EuU"
      }
    },
    {
      "cell_type": "markdown",
      "source": [
        "### 더하기 및 곱셈 연산자 사용"
      ],
      "metadata": {
        "id": "1OU3uYnN4KyF"
      }
    },
    {
      "cell_type": "code",
      "source": [
        "t1 = (0, 1, 2, 3, 4)\n",
        "t2 = ('a', 'b', 'c')\n",
        "\n",
        "print(t1 + t2)\n",
        "print(t1 * 3)\n",
        "print(t1 * 0)"
      ],
      "metadata": {
        "colab": {
          "base_uri": "https://localhost:8080/"
        },
        "id": "z7DzBgDn3__u",
        "outputId": "69481c00-21bd-441a-dad4-e61abd7de9ac"
      },
      "execution_count": 39,
      "outputs": [
        {
          "output_type": "stream",
          "name": "stdout",
          "text": [
            "(0, 1, 2, 3, 4, 'a', 'b', 'c')\n",
            "(0, 1, 2, 3, 4, 0, 1, 2, 3, 4, 0, 1, 2, 3, 4)\n",
            "()\n"
          ]
        }
      ]
    },
    {
      "cell_type": "markdown",
      "source": [
        "## 딕셔너리\n",
        "- "
      ],
      "metadata": {
        "id": "7-C0L5ha4iNu"
      }
    },
    {
      "cell_type": "code",
      "source": [
        "temp_dict = {\n",
        "    \"a\" : [0, 1, 2, 3], \n",
        "    \"b\" : \"휴먼\", \n",
        "    \"c\" : 100\n",
        "}\n",
        "\n",
        "temp_dict "
      ],
      "metadata": {
        "colab": {
          "base_uri": "https://localhost:8080/"
        },
        "id": "ECj3T2QR5Q1K",
        "outputId": "9d966b9e-47ec-432f-96fa-5a8a2718efaf"
      },
      "execution_count": 40,
      "outputs": [
        {
          "output_type": "execute_result",
          "data": {
            "text/plain": [
              "{'a': [0, 1, 2, 3], 'b': '휴먼', 'c': 100}"
            ]
          },
          "metadata": {},
          "execution_count": 40
        }
      ]
    },
    {
      "cell_type": "code",
      "source": [
        "temp_dict['c']"
      ],
      "metadata": {
        "colab": {
          "base_uri": "https://localhost:8080/"
        },
        "id": "TdVLdoMo5yVB",
        "outputId": "70bc20f5-7f84-4c0b-e282-9d2f3e0fc446"
      },
      "execution_count": 43,
      "outputs": [
        {
          "output_type": "execute_result",
          "data": {
            "text/plain": [
              "100"
            ]
          },
          "metadata": {},
          "execution_count": 43
        }
      ]
    },
    {
      "cell_type": "code",
      "source": [
        "temp_dict['d']"
      ],
      "metadata": {
        "colab": {
          "base_uri": "https://localhost:8080/",
          "height": 174
        },
        "id": "gG4pTk836CSx",
        "outputId": "b4814361-57ee-431f-d3f9-fd60670204a1"
      },
      "execution_count": 44,
      "outputs": [
        {
          "output_type": "error",
          "ename": "KeyError",
          "evalue": "ignored",
          "traceback": [
            "\u001b[0;31m---------------------------------------------------------------------------\u001b[0m",
            "\u001b[0;31mKeyError\u001b[0m                                  Traceback (most recent call last)",
            "\u001b[0;32m<ipython-input-44-bb93225c332d>\u001b[0m in \u001b[0;36m<module>\u001b[0;34m\u001b[0m\n\u001b[0;32m----> 1\u001b[0;31m \u001b[0mtemp_dict\u001b[0m\u001b[0;34m[\u001b[0m\u001b[0;34m'd'\u001b[0m\u001b[0;34m]\u001b[0m\u001b[0;34m\u001b[0m\u001b[0;34m\u001b[0m\u001b[0m\n\u001b[0m",
            "\u001b[0;31mKeyError\u001b[0m: 'd'"
          ]
        }
      ]
    },
    {
      "cell_type": "code",
      "source": [
        "# print(type(temp_dict.keys()))\n",
        "\n",
        "# 리스트로 변환\n",
        "result = temp_dict.keys()\n",
        "result.append(\"d\")\n",
        "\n",
        "print(result)\n",
        "result = list(temp_dict.keys())\n",
        "\n",
        "print(result)\n",
        "print(type(result))"
      ],
      "metadata": {
        "colab": {
          "base_uri": "https://localhost:8080/",
          "height": 248
        },
        "id": "Nl2bmr8I7KO0",
        "outputId": "ecab003e-abbe-4333-b686-385535161aa5"
      },
      "execution_count": 49,
      "outputs": [
        {
          "output_type": "error",
          "ename": "AttributeError",
          "evalue": "ignored",
          "traceback": [
            "\u001b[0;31m---------------------------------------------------------------------------\u001b[0m",
            "\u001b[0;31mAttributeError\u001b[0m                            Traceback (most recent call last)",
            "\u001b[0;32m<ipython-input-49-865ea9ba6694>\u001b[0m in \u001b[0;36m<module>\u001b[0;34m\u001b[0m\n\u001b[1;32m      3\u001b[0m \u001b[0;31m# 리스트로 변환\u001b[0m\u001b[0;34m\u001b[0m\u001b[0;34m\u001b[0m\u001b[0m\n\u001b[1;32m      4\u001b[0m \u001b[0mresult\u001b[0m \u001b[0;34m=\u001b[0m \u001b[0mtemp_dict\u001b[0m\u001b[0;34m.\u001b[0m\u001b[0mkeys\u001b[0m\u001b[0;34m(\u001b[0m\u001b[0;34m)\u001b[0m\u001b[0;34m\u001b[0m\u001b[0;34m\u001b[0m\u001b[0m\n\u001b[0;32m----> 5\u001b[0;31m \u001b[0mresult\u001b[0m\u001b[0;34m.\u001b[0m\u001b[0mappend\u001b[0m\u001b[0;34m(\u001b[0m\u001b[0;34m\"d\"\u001b[0m\u001b[0;34m)\u001b[0m\u001b[0;34m\u001b[0m\u001b[0;34m\u001b[0m\u001b[0m\n\u001b[0m\u001b[1;32m      6\u001b[0m \u001b[0;34m\u001b[0m\u001b[0m\n\u001b[1;32m      7\u001b[0m \u001b[0mprint\u001b[0m\u001b[0;34m(\u001b[0m\u001b[0mresult\u001b[0m\u001b[0;34m)\u001b[0m\u001b[0;34m\u001b[0m\u001b[0;34m\u001b[0m\u001b[0m\n",
            "\u001b[0;31mAttributeError\u001b[0m: 'dict_keys' object has no attribute 'append'"
          ]
        }
      ]
    },
    {
      "cell_type": "code",
      "source": [
        "result = temp_dict.values()\n",
        "print(type(result))\n",
        "print(result)"
      ],
      "metadata": {
        "colab": {
          "base_uri": "https://localhost:8080/"
        },
        "id": "53Z12v5P8Wpz",
        "outputId": "b4692a42-8da3-465e-e0b8-37e448c4f6ef"
      },
      "execution_count": 52,
      "outputs": [
        {
          "output_type": "stream",
          "name": "stdout",
          "text": [
            "<class 'dict_values'>\n",
            "dict_values([[0, 1, 2, 3], '휴먼', 100])\n"
          ]
        }
      ]
    },
    {
      "cell_type": "code",
      "source": [
        "a = {'name' : '휴먼', 'age' : 50, 'job' : '학생'}\n",
        "result = list(a.items())\n",
        "print(result)\n",
        "print(result[0][1])"
      ],
      "metadata": {
        "colab": {
          "base_uri": "https://localhost:8080/"
        },
        "id": "5bP9da8B8sYu",
        "outputId": "238aecf5-477f-44fb-d654-166552bc8fdd"
      },
      "execution_count": 57,
      "outputs": [
        {
          "output_type": "stream",
          "name": "stdout",
          "text": [
            "[('name', '휴먼'), ('age', 50), ('job', '학생')]\n",
            "휴먼\n"
          ]
        }
      ]
    },
    {
      "cell_type": "code",
      "source": [
        "a = 6\n",
        "\n",
        "if a > 5: \n",
        "print(\"a가 5보다 크다\")\n",
        "elif a > 0:\n",
        "  print(\"a가 0보다 크다\")\n",
        "else:\n",
        "  print(\"음수\")"
      ],
      "metadata": {
        "colab": {
          "base_uri": "https://localhost:8080/",
          "height": 137
        },
        "id": "akxb5M-1C2B4",
        "outputId": "191ff2ce-16ce-4872-d297-321dfcdb20d9"
      },
      "execution_count": 69,
      "outputs": [
        {
          "output_type": "error",
          "ename": "IndentationError",
          "evalue": "ignored",
          "traceback": [
            "\u001b[0;36m  File \u001b[0;32m\"<ipython-input-69-a2ac7d6d68f3>\"\u001b[0;36m, line \u001b[0;32m4\u001b[0m\n\u001b[0;31m    print(\"a가 5보다 크다\")\u001b[0m\n\u001b[0m    ^\u001b[0m\n\u001b[0;31mIndentationError\u001b[0m\u001b[0;31m:\u001b[0m expected an indented block\n"
          ]
        }
      ]
    },
    {
      "cell_type": "code",
      "source": [
        "# input 함수\n",
        "# 90점이상 A등급, 80점이상 B등급 나머지 C등급\n",
        "\n",
        "# var = int(input(\"입력하세요!!\"))\n",
        "\n",
        "a = int(input(\"입력하세요!!\"))\n",
        "\n",
        "if a >= 90: \n",
        "  print(\"A등급\")\n",
        "elif a >=80:\n",
        "  print(\"B등급\")\n",
        "else:\n",
        "  print(\"C등급\")\n",
        "\n",
        "'''\n",
        "if var >= 90:\n",
        "  print(\"A등급\")\n",
        "elif var >= 80:\n",
        "  print(\"B등급\")\n",
        "else:\n",
        "  print(\"C등급\")\n",
        "'''"
      ],
      "metadata": {
        "colab": {
          "base_uri": "https://localhost:8080/",
          "height": 72
        },
        "id": "TvH1wOplD0hn",
        "outputId": "9bdb039c-27bb-4d1b-c385-ed6d178dc567"
      },
      "execution_count": 73,
      "outputs": [
        {
          "output_type": "stream",
          "name": "stdout",
          "text": [
            "입력하세요!!100\n",
            "A등급\n"
          ]
        },
        {
          "output_type": "execute_result",
          "data": {
            "text/plain": [
              "'\\nif var >= 90:\\n  print(\"A등급\")\\nelif var >= 80:\\n  print(\"B등급\")\\nelse:\\n  print(\"C등급\")\\n'"
            ],
            "application/vnd.google.colaboratory.intrinsic+json": {
              "type": "string"
            }
          },
          "metadata": {},
          "execution_count": 73
        }
      ]
    },
    {
      "cell_type": "markdown",
      "source": [
        "## 반복문\n",
        "- 반복문 왜 쓸까요?\n"
      ],
      "metadata": {
        "id": "YTIVFYz5G-4L"
      }
    },
    {
      "cell_type": "code",
      "source": [
        "# 과제 Hello World 75321개를 출력\n",
        "for i in range(3):\n",
        "  print(\"Hello World\")"
      ],
      "metadata": {
        "colab": {
          "base_uri": "https://localhost:8080/"
        },
        "id": "n7YW0UuhHe2n",
        "outputId": "8f3ef58b-eae2-4c1a-d388-13ec766e9954"
      },
      "execution_count": 79,
      "outputs": [
        {
          "output_type": "stream",
          "name": "stdout",
          "text": [
            "Hello World\n",
            "Hello World\n",
            "Hello World\n"
          ]
        }
      ]
    },
    {
      "cell_type": "code",
      "source": [
        "letters = ['A', 'B', 'C']\n",
        "for idx, value in enumerate(letters):\n",
        "  print(idx, value)"
      ],
      "metadata": {
        "colab": {
          "base_uri": "https://localhost:8080/"
        },
        "id": "NptXnDLBJJxS",
        "outputId": "5c094a72-4c88-409e-cd7f-cef3a7f70190"
      },
      "execution_count": 80,
      "outputs": [
        {
          "output_type": "stream",
          "name": "stdout",
          "text": [
            "0 A\n",
            "1 B\n",
            "2 C\n"
          ]
        }
      ]
    },
    {
      "cell_type": "code",
      "source": [
        "fruits = ['apple', 'kiwi', 'mango']\n",
        "\n",
        "# 리스트의 값: 그 중에서 a가 들어간 글자만 따로 출력\n",
        "# 리스트 컴프리헨션(List Comprehension)\n",
        "newlists = [fruit for fruit in fruits if \"a\" in fruit]\n",
        "print(newlists)"
      ],
      "metadata": {
        "colab": {
          "base_uri": "https://localhost:8080/"
        },
        "id": "dZglcC3OJv90",
        "outputId": "21034a23-8554-41ca-8961-d4c4bf4f2a1d"
      },
      "execution_count": 81,
      "outputs": [
        {
          "output_type": "stream",
          "name": "stdout",
          "text": [
            "['apple', 'mango']\n"
          ]
        }
      ]
    },
    {
      "cell_type": "code",
      "source": [
        "fruits = ['apple', 'kiwi', 'mango']\n",
        "\"a\" in fruits[2]"
      ],
      "metadata": {
        "colab": {
          "base_uri": "https://localhost:8080/"
        },
        "id": "IdFgR9DuLMGS",
        "outputId": "92216d1b-1f14-44ea-af00-ef3d5b38f6a1"
      },
      "execution_count": 90,
      "outputs": [
        {
          "output_type": "execute_result",
          "data": {
            "text/plain": [
              "True"
            ]
          },
          "metadata": {},
          "execution_count": 90
        }
      ]
    },
    {
      "cell_type": "code",
      "source": [
        "fruits = ['apple', 'kiwi', 'mango']\n",
        "\n",
        "newlist = []\n",
        "for fruit in fruits:\n",
        "  # 1단계\n",
        "  print(fruit)\n",
        "  \n",
        "  # 2단계 : 조건문을 작성할 수 있다. \n",
        "  # True False 식을 도출 --> 이게 가장 어렵고\n",
        "  # 이걸 해야만 개발자의 길을 걸어가는 것\n",
        "  if \"a\" in fruit:\n",
        "    newlist.append(fruit)\n",
        "\n",
        "print(newlist)"
      ],
      "metadata": {
        "colab": {
          "base_uri": "https://localhost:8080/"
        },
        "id": "8vXP8fAqKaFY",
        "outputId": "ae7ff75d-55b5-4d18-fb45-f753df0eb48a"
      },
      "execution_count": 83,
      "outputs": [
        {
          "output_type": "stream",
          "name": "stdout",
          "text": [
            "apple\n",
            "kiwi\n",
            "mango\n",
            "['apple', 'mango']\n"
          ]
        }
      ]
    },
    {
      "cell_type": "markdown",
      "source": [],
      "metadata": {
        "id": "Fk8IhKzWFyHv"
      }
    },
    {
      "cell_type": "markdown",
      "source": [],
      "metadata": {
        "id": "s0c7qHUIv1P9"
      }
    },
    {
      "cell_type": "markdown",
      "source": [],
      "metadata": {
        "id": "ILqMm3pQoQCi"
      }
    },
    {
      "cell_type": "markdown",
      "source": [],
      "metadata": {
        "id": "Dq0PRpsfx-JM"
      }
    },
    {
      "cell_type": "markdown",
      "source": [
        "### 기초문법\n",
        "- ㅇㅁ러ㅏ이ㅓㅣㅓ"
      ],
      "metadata": {
        "id": "YRTcJDFfG79h"
      }
    },
    {
      "cell_type": "markdown",
      "source": [
        "### 판다스 문법\n",
        "- 어ㅏㅣ러마ㅓ리ㅏ어"
      ],
      "metadata": {
        "id": "AZGHuls6G_0j"
      }
    },
    {
      "cell_type": "markdown",
      "source": [
        "# 대분류2"
      ],
      "metadata": {
        "id": "JMEK_JPbHI58"
      }
    }
  ]
}